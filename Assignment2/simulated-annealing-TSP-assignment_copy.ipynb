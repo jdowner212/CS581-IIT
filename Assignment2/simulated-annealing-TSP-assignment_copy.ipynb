{
 "cells": [
  {
   "cell_type": "markdown",
   "metadata": {},
   "source": [
    "# Assignment 2 - Search"
   ]
  },
  {
   "cell_type": "markdown",
   "metadata": {},
   "source": [
    "In this assignment, you are going to complete the implementation of a state representation for the Traveling Salesman Problem and perform several simulations of simulated annealing.\n",
    "\n",
    "What you need to do:\n",
    "<br>1. Follow the instructions and complete the parts with **# TODO**.\n",
    "<br>2. Complete the implementations. \n",
    "<br>3. Run experiments to search for the best setting of parameters **k** and **lam**.\n",
    "<br>4. Report the results using tables.\n",
    "<br>5. Discuss your findings."
   ]
  },
  {
   "cell_type": "markdown",
   "metadata": {},
   "source": [
    "# Your Information"
   ]
  },
  {
   "cell_type": "raw",
   "metadata": {},
   "source": [
    "# TODO: Enter your information.\n",
    "\n",
    "Name:\n",
    "CWID:\n",
    "Section:"
   ]
  },
  {
   "cell_type": "markdown",
   "metadata": {},
   "source": [
    "# Implementations"
   ]
  },
  {
   "cell_type": "markdown",
   "metadata": {},
   "source": [
    "**TODO**: Complete the implementation of `TSPNode` and `read_TSP_from_file`. See below."
   ]
  },
  {
   "cell_type": "code",
   "execution_count": null,
   "metadata": {},
   "outputs": [],
   "source": [
    "from matplotlib import pylab\n",
    "import matplotlib.pyplot as plt\n",
    "import numpy as np\n",
    "import string\n",
    "from collections import defaultdict"
   ]
  },
  {
   "cell_type": "code",
   "execution_count": null,
   "metadata": {},
   "outputs": [],
   "source": [
    "class Node:\n",
    "    def __init__(self, state, parent = None):\n",
    "        self.state = state\n",
    "        self.parent = parent\n",
    "\n",
    "    def __repr__(self):\n",
    "        return \"Node: {}\".format(self.state)\n",
    "\n",
    "    def path(self):\n",
    "        current = self\n",
    "        path_back = [current]\n",
    "        while current.parent is not None:\n",
    "            path_back.append(current.parent)\n",
    "            current = current.parent\n",
    "        return reversed(path_back)\n",
    "\n",
    "    def expand(self):\n",
    "        raise NotImplementedError\n",
    "\n",
    "    def value(self):\n",
    "        raise NotImplementedError"
   ]
  },
  {
   "cell_type": "code",
   "execution_count": null,
   "metadata": {},
   "outputs": [],
   "source": [
    "class TSPNode(Node):\n",
    "    _random_state = None\n",
    "    _distances = None\n",
    "\n",
    "    def __init__(self, state, parent = None):\n",
    "        \"\"\"\n",
    "        A state is an ordered list of cities. For e.g., [\"A\", \"C\", \"D\", \"B\"].\n",
    "        This represents the solution of A - C - D - B - A.\n",
    "        \"\"\"        \n",
    "        super().__init__(state, parent)\n",
    "    \n",
    "    def __repr__(self):\n",
    "        return \"Node: <{}> {:.1f}\".format(\" \".join(self.state), self.value())\n",
    "    \n",
    "    def expand(self):\n",
    "        \"\"\"\n",
    "        Generate one random neighbor using the TSPNode._random_state.\n",
    "        \n",
    "        The random neighbor should be generated as follows. Pick two cities at random, and swap them.\n",
    "        \n",
    "        return:\n",
    "\n",
    "        [neighbor_node]: a list of one TSPNode whose parent is this node.\n",
    "        \"\"\"\n",
    "        neigbhor_node = None #TODO Implement.\n",
    "        \n",
    "        return [neigbhor_node]\n",
    "    \n",
    "    def value(self):\n",
    "        \"\"\"\n",
    "        Calculate the total cost.\n",
    "        \n",
    "        return:\n",
    "        -1*total_distance: the total cost of current state\n",
    "        \n",
    "        \"\"\"\n",
    "        total_distance = 0\n",
    "        n = len(self.state)\n",
    "\n",
    "        for i in range(n):\n",
    "            from_c = self.state[i]\n",
    "            if i == n-1:\n",
    "                to_c = self.state[0]\n",
    "            else:\n",
    "                to_c = self.state[i+1]\n",
    "            \n",
    "            total_distance += TSPNode._distances[from_c][to_c]\n",
    "\n",
    "        return -1*total_distance"
   ]
  },
  {
   "cell_type": "code",
   "execution_count": null,
   "metadata": {},
   "outputs": [],
   "source": [
    "class Graph:\n",
    "    def __init__(self):\n",
    "        self.distances = defaultdict(dict)\n",
    "\n",
    "    def add_edge(self, from_c, to_c, dist):\n",
    "        self.distances[from_c][to_c] = dist\n",
    "        self.distances[to_c][from_c] = dist"
   ]
  },
  {
   "cell_type": "code",
   "execution_count": null,
   "metadata": {},
   "outputs": [],
   "source": [
    "def make_graph(city_coords, dist_mat):\n",
    "    \"\"\"\n",
    "    Create a graph for the given TSP\n",
    "    \n",
    "    param:\n",
    "    city_coords: dictionary of cities\n",
    "    dist_mat: distance matrix\n",
    "    \n",
    "    return:\n",
    "    graph: an instance of Graph class that saved all necessary edges and costs\n",
    "    \n",
    "    \"\"\"\n",
    "    graph = Graph()\n",
    "\n",
    "    cities = list(city_coords.keys())\n",
    "\n",
    "    for i in range(len(cities)-1):\n",
    "        from_c = cities[i]\n",
    "        for j in range(i+1, len(cities)):\n",
    "            to_c = cities[j]\n",
    "            dist = dist_mat[i][j]\n",
    "            graph.add_edge(from_c, to_c, dist)\n",
    "    return graph"
   ]
  },
  {
   "cell_type": "code",
   "execution_count": null,
   "metadata": {},
   "outputs": [],
   "source": [
    "def init_state(seed, city_coords):\n",
    "    \"\"\"\n",
    "    Create an initial state node \n",
    "    \n",
    "    param:\n",
    "    seed: random seed\n",
    "    city_coords: dictionary of cities\n",
    "    \n",
    "    return:\n",
    "    initial_state: an instance of TSPNode class with a randomly generated state\n",
    "    \n",
    "    \"\"\"\n",
    "    rand_state = np.random.RandomState(seed=seed)\n",
    "    \n",
    "    cities = list(city_coords.keys())\n",
    "    shuffle_cities = list(rand_state.permutation(cities))\n",
    "    initial_state = TSPNode(shuffle_cities)\n",
    "    return initial_state"
   ]
  },
  {
   "cell_type": "code",
   "execution_count": null,
   "metadata": {},
   "outputs": [],
   "source": [
    "def exp_schedule(k, lam):\n",
    "    \"\"\"\n",
    "    The exponential schedule function for simulated annealing\n",
    "    \n",
    "    param:\n",
    "    k: initial temperature\n",
    "    lam: cooling factor lam\n",
    "    \n",
    "    return:\n",
    "    a function that accepts the current number of iteration as input and outputs a new temperature\n",
    "    \n",
    "    \"\"\"\n",
    "    return lambda t: k * np.exp(-lam * t) \n",
    "\n",
    "def linear_schedule(k, lam):\n",
    "    return lambda t: max(0, k - lam*t)\n",
    "\n",
    "def log_schedule(k, lam):\n",
    "    return lambda t: k / (1+lam*np.log(t+1))"
   ]
  },
  {
   "cell_type": "code",
   "execution_count": null,
   "metadata": {},
   "outputs": [],
   "source": [
    "def simulated_annealing(initial_n, temp_schedule, max_iter, random_state):\n",
    "    \"\"\"\n",
    "    Simulated annealing algorithm\n",
    "    \n",
    "    param:\n",
    "    initial_n: initial state\n",
    "    temp_schedule: temperature schedule function\n",
    "    max_iter: the max number of iterations\n",
    "    random_state: random state used to select random node or generate probability\n",
    "    \n",
    "    return:\n",
    "    current_n: a instance of TSPNode as solution state\n",
    "    \n",
    "    \"\"\"\n",
    "    current_n = initial_n\n",
    "    for t in range(max_iter):\n",
    "\n",
    "        T = temp_schedule(t)\n",
    "        next_nodes = current_n.expand()\n",
    "\n",
    "        if len(next_nodes) == 0:\n",
    "            return current_n\n",
    "        else:\n",
    "            next_n = random_state.choice(next_nodes)\n",
    "\n",
    "            delta_e =  next_n.value() - current_n.value()\n",
    "\n",
    "            if delta_e > 0:\n",
    "                current_n = next_n\n",
    "            else:\n",
    "                p = np.exp(delta_e/T)\n",
    "                #print(\"{:.1f} -> {:.1f}: {:.3f}\".format(current_n.state, next_n.state, p))\n",
    "                if random_state.random() < p:\n",
    "                    current_n = next_n\n",
    "    return current_n"
   ]
  },
  {
   "cell_type": "code",
   "execution_count": null,
   "metadata": {},
   "outputs": [],
   "source": [
    "def check_margin(x, y, x_inner_lim, y_inner_lim):\n",
    "    if x < x_inner_lim[0]:\n",
    "        return True\n",
    "    elif x > x_inner_lim[1]:\n",
    "        return True\n",
    "    elif x_inner_lim[0] <= x <= x_inner_lim[1] and (y > y_inner_lim[1] or y < y_inner_lim[0]):\n",
    "        return True\n",
    "    else:\n",
    "        return False"
   ]
  },
  {
   "cell_type": "code",
   "execution_count": null,
   "metadata": {},
   "outputs": [],
   "source": [
    "def TSP_generator(seed, x_inner_lim, x_outer_lim, y_inner_lim, y_outer_lim, num_city):\n",
    "    i = 0\n",
    "    cities = set()\n",
    "    dist_mat = np.zeros((num_city, num_city))\n",
    "\n",
    "    # Generate cities\n",
    "    while len(cities) < num_city:\n",
    "        rand_state = np.random.RandomState(seed=seed + i)\n",
    "        x_coord = rand_state.uniform(x_outer_lim[0], x_outer_lim[1], num_city)\n",
    "        y_coord = rand_state.uniform(y_outer_lim[0], y_outer_lim[1], num_city)\n",
    "\n",
    "        # Check if the generated coordinates are in the inner area\n",
    "        new_set = [(x, y) for x, y in zip(x_coord, y_coord) if check_margin(x, y, x_inner_lim, y_inner_lim)]\n",
    "        cities.update(new_set)\n",
    "        i += 1\n",
    "\n",
    "    cities = list(cities)[:num_city]\n",
    "    cities_dict = dict(zip(string.ascii_uppercase, cities))\n",
    "\n",
    "    # Generate edge cost\n",
    "    coordinates = np.asarray(cities)\n",
    "    for i in range(num_city):\n",
    "        for j in range(i + 1, num_city):\n",
    "            dist_mat[i][j] = np.sqrt(np.sum((coordinates[i] - coordinates[j]) ** 2))\n",
    "    return cities_dict, dist_mat"
   ]
  },
  {
   "cell_type": "code",
   "execution_count": 8,
   "metadata": {},
   "outputs": [
    {
     "data": {
      "text/plain": [
       "[[0.0, 2307.0, 2246.0, 1579.0, 1937.0, 1975.0, 2364.0, 1925.0, 66.0, 2231.0],\n",
       " [0.0, 0.0, 558.0, 1550.0, 1078.0, 1025.0, 68.0, 1252.0, 2247.0, 122.0],\n",
       " [0.0, 0.0, 0.0, 1890.0, 586.0, 525.0, 609.0, 753.0, 2181.0, 640.0],\n",
       " [0.0, 0.0, 0.0, 0.0, 2031.0, 2021.0, 1568.0, 2148.0, 1553.0, 1429.0],\n",
       " [0.0, 0.0, 0.0, 0.0, 0.0, 62.0, 1140.0, 174.0, 1871.0, 1120.0],\n",
       " [0.0, 0.0, 0.0, 0.0, 0.0, 0.0, 1087.0, 230.0, 1909.0, 1071.0],\n",
       " [0.0, 0.0, 0.0, 0.0, 0.0, 0.0, 0.0, 1315.0, 2304.0, 147.0],\n",
       " [0.0, 0.0, 0.0, 0.0, 0.0, 0.0, 0.0, 0.0, 1860.0, 1293.0],\n",
       " [0.0, 0.0, 0.0, 0.0, 0.0, 0.0, 0.0, 0.0, 0.0, 2172.0],\n",
       " [0.0, 0.0, 0.0, 0.0, 0.0, 0.0, 0.0, 0.0, 0.0, 0.0]]"
      ]
     },
     "execution_count": 8,
     "metadata": {},
     "output_type": "execute_result"
    }
   ],
   "source": [
    "import numpy as np\n",
    "dist_mat = np.array([[   0.        , 2306.60634444, 2245.72708178, 1578.65864374,\n",
    "        1937.09608407, 1974.62369488, 2363.89365112, 1925.40149451,\n",
    "          65.97362736, 2230.75717826],\n",
    "       [   0.        ,    0.        ,  558.23991702, 1549.95321072,\n",
    "        1077.82824388, 1025.18964386,   68.02865876, 1252.10120757,\n",
    "        2246.54308272,  122.44166775],\n",
    "       [   0.        ,    0.        ,    0.        , 1890.287398  ,\n",
    "         585.78190259,  525.29502333,  609.24246003,  753.27527396,\n",
    "        2180.80485229,  639.89776843],\n",
    "       [   0.        ,    0.        ,    0.        ,    0.        ,\n",
    "        2031.3129121 , 2021.19671303, 1567.71551366, 2148.34146724,\n",
    "        1553.12094904, 1428.65853806],\n",
    "       [   0.        ,    0.        ,    0.        ,    0.        ,\n",
    "           0.        ,   61.9646973 , 1140.48734801,  174.28905134,\n",
    "        1871.25856795, 1120.19716264],\n",
    "       [   0.        ,    0.        ,    0.        ,    0.        ,\n",
    "           0.        ,    0.        , 1087.03727617,  229.99682626,\n",
    "        1908.69916343, 1071.32949403],\n",
    "       [   0.        ,    0.        ,    0.        ,    0.        ,\n",
    "           0.        ,    0.        ,    0.        , 1314.76993321,\n",
    "        2304.2681851 ,  146.54155391],\n",
    "       [   0.        ,    0.        ,    0.        ,    0.        ,\n",
    "           0.        ,    0.        ,    0.        ,    0.        ,\n",
    "        1860.22799719, 1293.4148353 ],\n",
    "       [   0.        ,    0.        ,    0.        ,    0.        ,\n",
    "           0.        ,    0.        ,    0.        ,    0.        ,\n",
    "           0.        , 2171.92743052],\n",
    "       [   0.        ,    0.        ,    0.        ,    0.        ,\n",
    "           0.        ,    0.        ,    0.        ,    0.        ,\n",
    "           0.        ,    0.        ]])\n",
    "dist_mat = [[np.round(d) for d in sub_d] for sub_d in dist_mat]\n",
    "dist_mat"
   ]
  },
  {
   "cell_type": "code",
   "execution_count": 9,
   "metadata": {},
   "outputs": [
    {
     "name": "stdout",
     "output_type": "stream",
     "text": [
      "2307.0\n",
      "2246.0\n",
      "1579.0\n",
      "1937.0\n",
      "1975.0\n",
      "2364.0\n",
      "1925.0\n",
      "66.0\n",
      "2231.0\n",
      "558.0\n",
      "1550.0\n",
      "1078.0\n",
      "1025.0\n",
      "68.0\n",
      "1252.0\n",
      "2247.0\n",
      "122.0\n",
      "1890.0\n",
      "586.0\n",
      "525.0\n",
      "609.0\n",
      "753.0\n",
      "2181.0\n",
      "640.0\n",
      "2031.0\n",
      "2021.0\n",
      "1568.0\n",
      "2148.0\n",
      "1553.0\n",
      "1429.0\n",
      "62.0\n",
      "1140.0\n",
      "174.0\n",
      "1871.0\n",
      "1120.0\n",
      "1087.0\n",
      "230.0\n",
      "1909.0\n",
      "1071.0\n",
      "1315.0\n",
      "2304.0\n",
      "147.0\n",
      "1860.0\n",
      "1293.0\n",
      "2172.0\n"
     ]
    }
   ],
   "source": [
    "num_city= 10\n",
    "for i in range(num_city):\n",
    "    for j in range(i + 1, num_city):\n",
    "        print(dist_mat[i][j])"
   ]
  },
  {
   "cell_type": "code",
   "execution_count": null,
   "metadata": {},
   "outputs": [],
   "source": [
    "def TSP_plot(city_coords):\n",
    "    pylab.rcParams['figure.figsize'] = (10.0, 8.0)\n",
    "\n",
    "    for k_name, v_coord in city_coords.items():\n",
    "        x, y = v_coord\n",
    "        plt.scatter(x, y, marker='x', c='r', s=100)\n",
    "        plt.text(x, y + 0.04, k_name, fontsize='xx-large')\n",
    "    plt.show()"
   ]
  },
  {
   "cell_type": "code",
   "execution_count": null,
   "metadata": {},
   "outputs": [],
   "source": [
    "def solution_visualization(solution, city_coords):\n",
    "    \"\"\"\n",
    "    Visualize the final solution\n",
    "    \n",
    "    param:\n",
    "    solution: a TSPNode of final state\n",
    "    city_coords: dictionary of cities\n",
    "    \n",
    "    \"\"\"\n",
    "    pylab.rcParams['figure.figsize'] = (10.0, 8.0)\n",
    "    \n",
    "    for k_name, v_coord in city_coords.items():\n",
    "        x, y = v_coord\n",
    "        plt.scatter(x, y, marker='x', c='r', s=100)\n",
    "        plt.text(x, y+0.04, k_name, fontsize='xx-large')\n",
    "        \n",
    "    # Draw the line between two cities\n",
    "    for i, c in enumerate(solution.state):\n",
    "        x_start, y_start = city_coords[c]\n",
    "        if i != len(solution.state) - 1:\n",
    "            x_end, y_end = city_coords[solution.state[i+1]]\n",
    "        else:\n",
    "            x_end, y_end = city_coords[solution.state[0]]\n",
    "        \n",
    "        x, y = [x_start, x_end], [y_start, y_end]\n",
    "        x_mid, y_mid = (x_start + x_end)/2, (y_start + y_end)/2\n",
    "        plt.plot(x, y, 'ro-')\n",
    "\n",
    "    plt.show()"
   ]
  },
  {
   "cell_type": "code",
   "execution_count": null,
   "metadata": {},
   "outputs": [],
   "source": [
    "def read_TSP_from_file():\n",
    "    \"\"\"\n",
    "    Read cities from file\n",
    "    \n",
    "    return:\n",
    "    city_coords: a Dictionary as {city_name: (x_coordinate, y_coordinate)}\n",
    "    dist_mat: a matrix of euclidean distance between each pair of cities\n",
    "    \n",
    "    \"\"\"\n",
    "    # TODO\n",
    "\n",
    "    city_coords = None\n",
    "    dist_mat = None\n",
    "    \n",
    "    return city_coords, dist_mat"
   ]
  },
  {
   "cell_type": "markdown",
   "metadata": {},
   "source": [
    "# Testing your implementation"
   ]
  },
  {
   "cell_type": "markdown",
   "metadata": {},
   "source": [
    "## Generate or read a TSP problem"
   ]
  },
  {
   "cell_type": "code",
   "execution_count": null,
   "metadata": {},
   "outputs": [],
   "source": [
    "rand_seed = 11\n",
    "rand_state = np.random.RandomState(rand_seed)"
   ]
  },
  {
   "cell_type": "code",
   "execution_count": null,
   "metadata": {},
   "outputs": [],
   "source": [
    "x_inner_range, x_outer_range = (-99, 99), (-100, 100)\n",
    "y_inner_range, y_outer_range = (-99, 99), (-100, 100)\n",
    "\n",
    "num_city = 10\n",
    "max_iter = 1000\n",
    "schedule_k = 500\n",
    "schedule_lam = 0.25"
   ]
  },
  {
   "cell_type": "code",
   "execution_count": null,
   "metadata": {},
   "outputs": [],
   "source": [
    "# Option 1: read cities from a file\n",
    "#cities_coords, dist_mat = read_TSP_from_file()\n",
    "# Option 2: randomly generate cities from a TSP generator\n",
    "cities_coords, dist_mat = TSP_generator(rand_seed, x_inner_range, x_outer_range, y_inner_range, y_outer_range, num_city)"
   ]
  },
  {
   "cell_type": "code",
   "execution_count": null,
   "metadata": {},
   "outputs": [],
   "source": [
    "cities_coords"
   ]
  },
  {
   "cell_type": "code",
   "execution_count": null,
   "metadata": {
    "scrolled": true
   },
   "outputs": [],
   "source": [
    "dist_mat"
   ]
  },
  {
   "cell_type": "code",
   "execution_count": null,
   "metadata": {},
   "outputs": [],
   "source": [
    "TSP_plot(cities_coords)"
   ]
  },
  {
   "cell_type": "code",
   "execution_count": null,
   "metadata": {},
   "outputs": [],
   "source": [
    "tsp_graph = make_graph(cities_coords, dist_mat)\n",
    "TSPNode._distances = tsp_graph.distances\n",
    "TSPNode._random_state = rand_state"
   ]
  },
  {
   "cell_type": "markdown",
   "metadata": {},
   "source": [
    "## 2. Generate initial state"
   ]
  },
  {
   "cell_type": "code",
   "execution_count": null,
   "metadata": {},
   "outputs": [],
   "source": [
    "initial_n = init_state(rand_seed, cities_coords)\n",
    "initial_n.state"
   ]
  },
  {
   "cell_type": "markdown",
   "metadata": {},
   "source": [
    "## 3. Run Simulated Annealing"
   ]
  },
  {
   "cell_type": "code",
   "execution_count": null,
   "metadata": {},
   "outputs": [],
   "source": [
    "t_schedule = exp_schedule(k=schedule_k, lam=schedule_lam)"
   ]
  },
  {
   "cell_type": "code",
   "execution_count": null,
   "metadata": {},
   "outputs": [],
   "source": [
    "solution_n = simulated_annealing(initial_n, t_schedule, max_iter, rand_state)\n",
    "solution_n.state"
   ]
  },
  {
   "cell_type": "code",
   "execution_count": null,
   "metadata": {
    "scrolled": true
   },
   "outputs": [],
   "source": [
    "sol_path = list(solution_n.path())\n",
    "for node in sol_path:\n",
    "    print(node)"
   ]
  },
  {
   "cell_type": "markdown",
   "metadata": {},
   "source": [
    "## 4. Visualize final solution"
   ]
  },
  {
   "cell_type": "code",
   "execution_count": null,
   "metadata": {},
   "outputs": [],
   "source": [
    "solution_visualization(solution_n, cities_coords)"
   ]
  },
  {
   "cell_type": "markdown",
   "metadata": {},
   "source": [
    "# Run Simulations"
   ]
  },
  {
   "cell_type": "markdown",
   "metadata": {},
   "source": [
    "## TSP-1 (Large cost)"
   ]
  },
  {
   "cell_type": "markdown",
   "metadata": {},
   "source": [
    "The TSP problem generated with large costs. Please use the given random seed. "
   ]
  },
  {
   "cell_type": "code",
   "execution_count": null,
   "metadata": {},
   "outputs": [],
   "source": [
    "num_city = 10\n",
    "x_inner_range, x_outer_range = (-900, 900), (-1000, 1000)\n",
    "y_inner_range, y_outer_range = (-900, 900), (-1000, 1000)\n",
    "\n",
    "cities_coords, dist_mat = TSP_generator(1234, x_inner_range, x_outer_range, y_inner_range, y_outer_range, num_city)\n",
    "tsp_graph = make_graph(cities_coords, dist_mat)\n",
    "TSPNode._distances = tsp_graph.distances"
   ]
  },
  {
   "cell_type": "markdown",
   "metadata": {},
   "source": [
    "### Brute Force"
   ]
  },
  {
   "cell_type": "code",
   "execution_count": null,
   "metadata": {},
   "outputs": [],
   "source": [
    "# TODO Implement brute force search and record the optimal result and visualize it"
   ]
  },
  {
   "cell_type": "markdown",
   "metadata": {},
   "source": [
    "### Exponential Schedule"
   ]
  },
  {
   "cell_type": "code",
   "execution_count": null,
   "metadata": {},
   "outputs": [],
   "source": [
    "max_iter, num_trials, rand_seed = 500, 10, 1234\n",
    "\n",
    "# TODO: you need to decide the value set of k and lam by yourself\n",
    "k_set = [10, 100, 500]\n",
    "lam_set = [0.001, 0.01, 0.25, 0.5, 0.99]\n",
    "\n",
    "res_dict = {}\n",
    "for k in k_set:\n",
    "    for lam in lam_set:\n",
    "        t_schedule = exp_schedule(k=k, lam=lam)\n",
    "        \n",
    "        cost_list = []\n",
    "        for trial_idx in range(num_trials):\n",
    "            rand_state = np.random.RandomState(rand_seed+trial_idx)\n",
    "            TSPNode._random_state = rand_state\n",
    "            \n",
    "            initial_n = init_state(rand_seed+trial_idx, cities_coords)\n",
    "            solution_n = simulated_annealing(initial_n, t_schedule, max_iter, rand_state)\n",
    "            cost_list.append(solution_n.value())\n",
    "        \n",
    "        res_dict[(k, lam)] = np.average(cost_list)"
   ]
  },
  {
   "cell_type": "code",
   "execution_count": null,
   "metadata": {},
   "outputs": [],
   "source": [
    "res_dict"
   ]
  },
  {
   "cell_type": "markdown",
   "metadata": {},
   "source": [
    "### Linear Schedule"
   ]
  },
  {
   "cell_type": "code",
   "execution_count": null,
   "metadata": {},
   "outputs": [],
   "source": [
    "max_iter, num_trials, rand_seed = 500, 10, 1234\n",
    "\n",
    "# TODO: you need to decide the value set of k and lam by yourself\n",
    "k_set = [10, 100, 500]\n",
    "lam_set = [0.001, 0.01, 0.25, 0.5, 0.99]\n",
    "\n",
    "res_dict = {}\n",
    "for k in k_set:\n",
    "    for lam in lam_set:\n",
    "        t_schedule = linear_schedule(k=k, lam=lam)\n",
    "        \n",
    "        cost_list = []\n",
    "        for trial_idx in range(num_trials):\n",
    "            rand_state = np.random.RandomState(rand_seed+trial_idx)\n",
    "            TSPNode._random_state = rand_state\n",
    "            initial_n = init_state(rand_seed+trial_idx, cities_coords)\n",
    "            \n",
    "            solution_n = simulated_annealing(initial_n, t_schedule, max_iter, rand_state)\n",
    "            cost_list.append(solution_n.value())\n",
    "        \n",
    "        res_dict[(k, lam)] = np.average(cost_list)"
   ]
  },
  {
   "cell_type": "code",
   "execution_count": null,
   "metadata": {},
   "outputs": [],
   "source": [
    "res_dict"
   ]
  },
  {
   "cell_type": "markdown",
   "metadata": {},
   "source": [
    "### Log Schedule"
   ]
  },
  {
   "cell_type": "code",
   "execution_count": null,
   "metadata": {},
   "outputs": [],
   "source": [
    "max_iter, num_trials, rand_seed = 500, 10, 1234\n",
    "\n",
    "# TODO: you need to decide the value set of k and lam by yourself\n",
    "k_set = [10, 100, 500]\n",
    "lam_set = [0.001, 0.01, 0.25, 0.5, 0.99]\n",
    "\n",
    "res_dict = {}\n",
    "for k in k_set:\n",
    "    for lam in lam_set:\n",
    "        t_schedule = log_schedule(k=k, lam=lam)\n",
    "        \n",
    "        cost_list = []\n",
    "        for trial_idx in range(num_trials):\n",
    "            rand_state = np.random.RandomState(rand_seed+trial_idx)\n",
    "            TSPNode._random_state = rand_state\n",
    "            initial_n = init_state(rand_seed+trial_idx, cities_coords)\n",
    "            \n",
    "            solution_n = simulated_annealing(initial_n, t_schedule, max_iter, rand_state)\n",
    "            cost_list.append(solution_n.value())\n",
    "        \n",
    "        res_dict[(k, lam)] = np.average(cost_list)"
   ]
  },
  {
   "cell_type": "code",
   "execution_count": null,
   "metadata": {},
   "outputs": [],
   "source": [
    "res_dict"
   ]
  },
  {
   "cell_type": "code",
   "execution_count": null,
   "metadata": {},
   "outputs": [],
   "source": [
    "# TODO: Present a table of your results for TSP-1. Consider using pandas."
   ]
  },
  {
   "cell_type": "markdown",
   "metadata": {},
   "source": [
    "## TSP-2 (Small cost)"
   ]
  },
  {
   "cell_type": "markdown",
   "metadata": {},
   "source": [
    "The TSP problem generated with small costs. Please use your CWID as the random seed. "
   ]
  },
  {
   "cell_type": "code",
   "execution_count": null,
   "metadata": {},
   "outputs": [],
   "source": [
    "num_city = 10\n",
    "x_inner_range, x_outer_range = (-9, 9), (-15, 15)\n",
    "y_inner_range, y_outer_range = (-9, 9), (-15, 15)\n",
    "\n",
    "# TODO: Please replace \"4321\" with your own CWID number after \"A\"\n",
    "your_own_seed = int(\"4321\")\n",
    "\n",
    "cities_coords, dist_mat = TSP_generator(your_own_seed, x_inner_range, x_outer_range, y_inner_range, y_outer_range, num_city)\n",
    "tsp_graph = make_graph(cities_coords, dist_mat)\n",
    "TSPNode._distances = tsp_graph.distances"
   ]
  },
  {
   "cell_type": "markdown",
   "metadata": {},
   "source": [
    "### Brute Force"
   ]
  },
  {
   "cell_type": "code",
   "execution_count": null,
   "metadata": {},
   "outputs": [],
   "source": [
    "# TODO"
   ]
  },
  {
   "cell_type": "markdown",
   "metadata": {},
   "source": [
    "### Exponential Schedule"
   ]
  },
  {
   "cell_type": "code",
   "execution_count": null,
   "metadata": {},
   "outputs": [],
   "source": [
    "max_iter, num_trials, rand_seed = 500, 10, your_own_seed\n",
    "\n",
    "# TODO: you need to decide the value set of k and lam by yourself\n",
    "k_set = [10, 100, 500]\n",
    "lam_set = [0.001, 0.01, 0.25, 0.5, 0.99]\n",
    "\n",
    "res_dict = {}\n",
    "for k in k_set:\n",
    "    for lam in lam_set:\n",
    "        t_schedule = exp_schedule(k=k, lam=lam)\n",
    "        \n",
    "        cost_list = []\n",
    "        for trial_idx in range(num_trials):\n",
    "            rand_state = np.random.RandomState(rand_seed+trial_idx)\n",
    "            TSPNode._random_state = rand_state\n",
    "            \n",
    "            initial_n = init_state(rand_seed+trial_idx, cities_coords)\n",
    "            solution_n = simulated_annealing(initial_n, t_schedule, max_iter, rand_state)\n",
    "            cost_list.append(solution_n.value())\n",
    "        \n",
    "        res_dict[(k, lam)] = np.average(cost_list)"
   ]
  },
  {
   "cell_type": "code",
   "execution_count": null,
   "metadata": {},
   "outputs": [],
   "source": [
    "res_dict"
   ]
  },
  {
   "cell_type": "markdown",
   "metadata": {},
   "source": [
    "### Linear Schedule"
   ]
  },
  {
   "cell_type": "code",
   "execution_count": null,
   "metadata": {},
   "outputs": [],
   "source": [
    "max_iter, num_trials, rand_seed = 500, 10, your_own_seed\n",
    "\n",
    "# TODO: you need to decide the value set of k and lam by yourself\n",
    "k_set = [10, 100, 500]\n",
    "lam_set = [0.001, 0.01, 0.25, 0.5, 0.99]\n",
    "\n",
    "res_dict = {}\n",
    "for k in k_set:\n",
    "    for lam in lam_set:\n",
    "        t_schedule = linear_schedule(k=k, lam=lam)\n",
    "        \n",
    "        cost_list = []\n",
    "        for trial_idx in range(num_trials):\n",
    "            rand_state = np.random.RandomState(rand_seed+trial_idx)\n",
    "            TSPNode._random_state = rand_state\n",
    "            initial_n = init_state(rand_seed+trial_idx, cities_coords)\n",
    "            \n",
    "            solution_n = simulated_annealing(initial_n, t_schedule, max_iter, rand_state)\n",
    "            cost_list.append(solution_n.value())\n",
    "        \n",
    "        res_dict[(k, lam)] = np.average(cost_list)"
   ]
  },
  {
   "cell_type": "code",
   "execution_count": null,
   "metadata": {},
   "outputs": [],
   "source": [
    "res_dict"
   ]
  },
  {
   "cell_type": "markdown",
   "metadata": {},
   "source": [
    "### Log Schedule"
   ]
  },
  {
   "cell_type": "code",
   "execution_count": null,
   "metadata": {},
   "outputs": [],
   "source": [
    "max_iter, num_trials, rand_seed = 500, 10, your_own_seed\n",
    "\n",
    "# TODO: you need to decide the value set of k and lam by yourself\n",
    "k_set = [10, 100, 500]\n",
    "lam_set = [0.001, 0.01, 0.25, 0.5, 0.99]\n",
    "\n",
    "res_dict = {}\n",
    "for k in k_set:\n",
    "    for lam in lam_set:\n",
    "        t_schedule = log_schedule(k=k, lam=lam)\n",
    "        \n",
    "        cost_list = []\n",
    "        for trial_idx in range(num_trials):\n",
    "            rand_state = np.random.RandomState(rand_seed+trial_idx)\n",
    "            TSPNode._random_state = rand_state\n",
    "            initial_n = init_state(rand_seed+trial_idx, cities_coords)\n",
    "            \n",
    "            solution_n = simulated_annealing(initial_n, t_schedule, max_iter, rand_state)\n",
    "            cost_list.append(solution_n.value())\n",
    "        \n",
    "        res_dict[(k, lam)] = np.average(cost_list)"
   ]
  },
  {
   "cell_type": "code",
   "execution_count": null,
   "metadata": {},
   "outputs": [],
   "source": [
    "res_dict"
   ]
  },
  {
   "cell_type": "code",
   "execution_count": null,
   "metadata": {},
   "outputs": [],
   "source": [
    "# TODO: Present a table of your results for TSP-2. Consider using pandas."
   ]
  },
  {
   "cell_type": "markdown",
   "metadata": {},
   "source": [
    "## TSP-3 (berlin52)"
   ]
  },
  {
   "cell_type": "markdown",
   "metadata": {},
   "source": [
    "The TSP problem loaded from the file \"berlin52.tsp\" with 52 cities."
   ]
  },
  {
   "cell_type": "code",
   "execution_count": null,
   "metadata": {},
   "outputs": [],
   "source": [
    "cities_coords, dist_mat = read_TSP_from_file()\n",
    "tsp_graph = make_graph(cities_coords, dist_mat)\n",
    "TSPNode._distances = tsp_graph.distances"
   ]
  },
  {
   "cell_type": "markdown",
   "metadata": {},
   "source": [
    "### Exponential Schedule"
   ]
  },
  {
   "cell_type": "code",
   "execution_count": null,
   "metadata": {},
   "outputs": [],
   "source": [
    "max_iter, num_trials, rand_seed = 500, 10, 1234\n",
    "\n",
    "# TODO: you need to decide the value set of k and lam by yourself\n",
    "k_set = [10, 100, 500]\n",
    "lam_set = [0.001, 0.01, 0.25, 0.5, 0.99]\n",
    "\n",
    "res_dict = {}\n",
    "for k in k_set:\n",
    "    for lam in lam_set:\n",
    "        t_schedule = exp_schedule(k=k, lam=lam)\n",
    "        \n",
    "        cost_list = []\n",
    "        for trial_idx in range(num_trials):\n",
    "            rand_state = np.random.RandomState(rand_seed+trial_idx)\n",
    "            TSPNode._random_state = rand_state\n",
    "            \n",
    "            initial_n = init_state(rand_seed+trial_idx, cities_coords)\n",
    "            solution_n = simulated_annealing(initial_n, t_schedule, max_iter, rand_state)\n",
    "            cost_list.append(solution_n.value())\n",
    "        \n",
    "        res_dict[(k, lam)] = np.average(cost_list)"
   ]
  },
  {
   "cell_type": "code",
   "execution_count": null,
   "metadata": {},
   "outputs": [],
   "source": [
    "res_dict"
   ]
  },
  {
   "cell_type": "markdown",
   "metadata": {},
   "source": [
    "### Linear Schedule"
   ]
  },
  {
   "cell_type": "code",
   "execution_count": null,
   "metadata": {},
   "outputs": [],
   "source": [
    "max_iter, num_trials, rand_seed = 500, 10, 1234\n",
    "\n",
    "# TODO: you need to decide the value set of k and lam by yourself\n",
    "k_set = [10, 100, 500]\n",
    "lam_set = [0.001, 0.01, 0.25, 0.5, 0.99]\n",
    "\n",
    "res_dict = {}\n",
    "for k in k_set:\n",
    "    for lam in lam_set:\n",
    "        t_schedule = linear_schedule(k=k, lam=lam)\n",
    "        \n",
    "        cost_list = []\n",
    "        for trial_idx in range(num_trials):\n",
    "            rand_state = np.random.RandomState(rand_seed+trial_idx)\n",
    "            TSPNode._random_state = rand_state\n",
    "            initial_n = init_state(rand_seed+trial_idx, cities_coords)\n",
    "            \n",
    "            solution_n = simulated_annealing(initial_n, t_schedule, max_iter, rand_state)\n",
    "            cost_list.append(solution_n.value())\n",
    "        \n",
    "        res_dict[(k, lam)] = np.average(cost_list)"
   ]
  },
  {
   "cell_type": "code",
   "execution_count": null,
   "metadata": {},
   "outputs": [],
   "source": [
    "res_dict"
   ]
  },
  {
   "cell_type": "markdown",
   "metadata": {},
   "source": [
    "### Log Schedule"
   ]
  },
  {
   "cell_type": "code",
   "execution_count": null,
   "metadata": {},
   "outputs": [],
   "source": [
    "max_iter, num_trials, rand_seed = 500, 10, 1234\n",
    "\n",
    "# TODO: you need to decide the value set of k and lam by yourself\n",
    "k_set = [10, 100, 500]\n",
    "lam_set = [0.001, 0.01, 0.25, 0.5, 0.99]\n",
    "\n",
    "res_dict = {}\n",
    "for k in k_set:\n",
    "    for lam in lam_set:\n",
    "        t_schedule = log_schedule(k=k, lam=lam)\n",
    "        \n",
    "        cost_list = []\n",
    "        for trial_idx in range(num_trials):\n",
    "            rand_state = np.random.RandomState(rand_seed+trial_idx)\n",
    "            TSPNode._random_state = rand_state\n",
    "            initial_n = init_state(rand_seed+trial_idx, cities_coords)\n",
    "            \n",
    "            solution_n = simulated_annealing(initial_n, t_schedule, max_iter, rand_state)\n",
    "            cost_list.append(solution_n.value())\n",
    "        \n",
    "        res_dict[(k, lam)] = np.average(cost_list)"
   ]
  },
  {
   "cell_type": "code",
   "execution_count": null,
   "metadata": {},
   "outputs": [],
   "source": [
    "res_dict"
   ]
  },
  {
   "cell_type": "code",
   "execution_count": null,
   "metadata": {},
   "outputs": [],
   "source": [
    "# TODO: Present a table of your results for TSP-3. Consider using pandas."
   ]
  },
  {
   "cell_type": "markdown",
   "metadata": {},
   "source": [
    "# Report"
   ]
  },
  {
   "cell_type": "markdown",
   "metadata": {},
   "source": [
    "**TODO** Discuss your findings."
   ]
  }
 ],
 "metadata": {
  "interpreter": {
   "hash": "9a328e9dafe32c48b4eaefbad3747c00d426236eea28e72508c75cbdd661723c"
  },
  "kernelspec": {
   "display_name": "Python 3",
   "language": "python",
   "name": "python3"
  },
  "language_info": {
   "codemirror_mode": {
    "name": "ipython",
    "version": 3
   },
   "file_extension": ".py",
   "mimetype": "text/x-python",
   "name": "python",
   "nbconvert_exporter": "python",
   "pygments_lexer": "ipython3",
   "version": "3.9.1"
  },
  "toc": {
   "base_numbering": 1,
   "nav_menu": {},
   "number_sections": true,
   "sideBar": true,
   "skip_h1_title": false,
   "title_cell": "Table of Contents",
   "title_sidebar": "Contents",
   "toc_cell": false,
   "toc_position": {},
   "toc_section_display": true,
   "toc_window_display": false
  }
 },
 "nbformat": 4,
 "nbformat_minor": 2
}
