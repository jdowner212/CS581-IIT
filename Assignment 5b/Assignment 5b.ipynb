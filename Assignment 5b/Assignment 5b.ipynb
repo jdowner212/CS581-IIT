{
  "cells": [
    {
      "cell_type": "markdown",
      "metadata": {
        "id": "OgYCMwZEczep"
      },
      "source": [
        "# Assignment 5b - Deep Learning"
      ]
    },
    {
      "cell_type": "markdown",
      "metadata": {
        "id": "dp5MybR8czeu"
      },
      "source": [
        "In this assignment, you will\n",
        "\n",
        "1. Load mnk data and split them into training and test set.\n",
        "1. Build model based on the given model structure, and implement a custome loss function.\n",
        "1. Train the model and plot the learning curves with respect to the number of epochs. \n",
        "1. Evaluate the model on the test set. Report performance metrics.\n",
        "1. Choose a few game states and print the predictions made by the model on these states.\n",
        "1. Discuss findings."
      ]
    },
    {
      "cell_type": "markdown",
      "metadata": {
        "id": "wUjjpG4Tczev"
      },
      "source": [
        "## Your Information"
      ]
    },
    {
      "cell_type": "markdown",
      "source": [
        ""
      ],
      "metadata": {
        "id": "fA0peDLNjdf5"
      }
    },
    {
      "cell_type": "code",
      "source": [
        "from google.colab import drive\n",
        "drive.mount('/content/drive')"
      ],
      "metadata": {
        "colab": {
          "base_uri": "https://localhost:8080/"
        },
        "id": "ST_DMVdfyP3W",
        "outputId": "ab5bd22e-1448-410f-bc42-7d090d179ad0"
      },
      "execution_count": 1,
      "outputs": [
        {
          "output_type": "stream",
          "name": "stdout",
          "text": [
            "Drive already mounted at /content/drive; to attempt to forcibly remount, call drive.mount(\"/content/drive\", force_remount=True).\n"
          ]
        }
      ]
    },
    {
      "cell_type": "code",
      "source": [
        "%cd /content/drive/MyDrive/2022 \\files/CS_581"
      ],
      "metadata": {
        "colab": {
          "base_uri": "https://localhost:8080/"
        },
        "id": "YZw5XW8KzF1J",
        "outputId": "f0b67eb8-315a-4475-d197-981e859fba2b"
      },
      "execution_count": 2,
      "outputs": [
        {
          "output_type": "stream",
          "name": "stdout",
          "text": [
            "/content/drive/MyDrive/2022 files/CS_581\n"
          ]
        }
      ]
    },
    {
      "cell_type": "code",
      "execution_count": 3,
      "metadata": {
        "id": "YA8u1Sjvczex"
      },
      "outputs": [],
      "source": [
        "import numpy as np\n",
        "from numpy.random import RandomState\n",
        "from collections import Counter\n",
        "import matplotlib.pyplot as plt\n",
        "from time import time\n",
        "import os\n",
        "import sys\n",
        "import pickle\n",
        "from operator import itemgetter\n",
        "from copy import deepcopy\n",
        "from sklearn.model_selection import train_test_split\n",
        "from sklearn.metrics import accuracy_score, mean_squared_error\n",
        "import tensorflow as tf\n",
        "from tensorflow.keras.optimizers import Adam\n",
        "\n",
        "from utils import MNKNode, ConnectFour, alpha_beta_search\n",
        "from gn_network import ConvResNN"
      ]
    },
    {
      "cell_type": "markdown",
      "metadata": {
        "id": "Pov8tJYPczez"
      },
      "source": [
        "## Dataset\n",
        "\n",
        "Load three files downloaded from BlackBoard.\n",
        "\n",
        "``mnk_X_data.pickle`` represents the game board data. \n",
        "\n",
        "* Each instance x from mnk_X_data is a (3, 3, 3) vector\n",
        "\n",
        "* x[0, :, :] records the positions of player O\n",
        "\n",
        "* x[1, :, :] records the positions of player X\n",
        "\n",
        "* x[2, 0, 0] represents the next player (0: O, 1: X)\n",
        "\n",
        "``mnk_y_move.pickle`` represents the labels of the next moves for current state.\n",
        "\n",
        "* There are 9 move labels in total (0, 1, ..., 8), counting from left to right, top to bottom\n",
        "\n",
        "\n",
        "``mnk_y_value.pickle`` represents the outcome labels (0: O wins, 1: X wins, 0.5: draw)."
      ]
    },
    {
      "cell_type": "markdown",
      "metadata": {
        "id": "GZWisIwFvU-x"
      },
      "source": [
        "Example of x:"
      ]
    },
    {
      "cell_type": "raw",
      "metadata": {
        "id": "uqx-inD0vU-y"
      },
      "source": [
        "O - O                  \n",
        "X - X               \n",
        "- X -"
      ]
    },
    {
      "cell_type": "raw",
      "metadata": {
        "id": "nVmR8kXVvU-y"
      },
      "source": [
        "[[[1., 0., 1.],\n",
        "  [0., 0., 0.],\n",
        "  [0., 0., 0.]],\n",
        " \n",
        " [[0., 0., 0.],\n",
        "  [1., 0., 1.],\n",
        "  [0., 1., 0.]],\n",
        " \n",
        " [[0., 0., 0.],\n",
        "  [0., 0., 0.],\n",
        "  [0., 0., 0.]]"
      ]
    },
    {
      "cell_type": "markdown",
      "metadata": {
        "id": "CZtDLuoxvU-y"
      },
      "source": [
        "Load data from files."
      ]
    },
    {
      "cell_type": "code",
      "execution_count": 4,
      "metadata": {
        "id": "GiDSrQ7Xcze0"
      },
      "outputs": [],
      "source": [
        "X       = pickle.load(open(\"mnk_X_data.pickle\",  \"rb\"))\n",
        "y_move  = pickle.load(open(\"mnk_y_move.pickle\",  \"rb\"))\n",
        "y_value = pickle.load(open(\"mnk_y_value.pickle\", \"rb\"))"
      ]
    },
    {
      "cell_type": "markdown",
      "metadata": {
        "id": "AJ48Q1gvvU-z"
      },
      "source": [
        "Split the data into train set and test set."
      ]
    },
    {
      "cell_type": "code",
      "execution_count": 5,
      "metadata": {
        "id": "u24G3GWRvU-z"
      },
      "outputs": [],
      "source": [
        "# Split data\n",
        "train_idx,     test_idx, _, _ = train_test_split(np.arange(len(X)), y_value, test_size=1./3, stratify=y_value, random_state=1234)\n",
        "X_train,       X_test         = X[train_idx], X[test_idx]\n",
        "y_move_train,  y_move_test   = y_move[train_idx], y_move[test_idx]\n",
        "y_value_train, y_value_test  = y_value[train_idx], y_value[test_idx]"
      ]
    },
    {
      "cell_type": "markdown",
      "metadata": {
        "id": "vLP7Eej1cze0"
      },
      "source": [
        "## Model Fit\n",
        "\n",
        "Complete the TODO parts in **gn_network.py**. You will write a custom model with following structure by subclassing the ``Model`` class. See option 2 in https://www.tensorflow.org/api_docs/python/tf/keras/Model for reference:\n",
        "1. Conv2D Layer1 (128 filters, 3\\*3 kernel, 1\\*1 strides, 'same' padding, 'relu' activation)\n",
        "        \n",
        "1. Conv2D Layer2 (64 filters, 3\\*3 kernel, 1\\*1 strides, 'same' padding, 'relu' activation)\n",
        "        \n",
        "1. Conv2D Layer3 (32 filters, 3\\*3 kernel, 1\\*1 strides, 'same' padding, 'relu' activation)\n",
        "        \n",
        "1. Flatten Layer\n",
        "        \n",
        "1. Dense Layer1 (32 units, 'relu' activation)\n",
        "        \n",
        "1. Dense Layer move (9 units, 'softmax' activation)\n",
        "        \n",
        "1. Dense Layer value (1 units, 'sigmoid' activation)\n",
        "\n",
        "Set Adam with learning rate 1e-3 as the optimizer to compile the model.\n",
        "\n",
        "Set the number of epochs to 100, validation_split to 0.2, and then fit the model."
      ]
    },
    {
      "cell_type": "markdown",
      "source": [
        ""
      ],
      "metadata": {
        "id": "VCHi2I1oVcQQ"
      }
    },
    {
      "cell_type": "code",
      "execution_count": 6,
      "metadata": {
        "colab": {
          "base_uri": "https://localhost:8080/"
        },
        "id": "E7ScZf2SvU-z",
        "outputId": "add2633e-5d9e-47d1-97e8-3087eaa12031"
      },
      "outputs": [
        {
          "output_type": "stream",
          "name": "stdout",
          "text": [
            "Epoch 1/100\n",
            "76/76 [==============================] - 4s 15ms/step - train hybrid loss: 1.9430 - train m accuracy: 0.3869 - train v accuracy: 0.2581 - train m loss: 1.7913 - train v loss: 0.1517 - val_test hybrid loss: 1.6220 - val_test m accuracy: 0.5141 - val_test v accuracy: 0.2570 - val_test m loss: 1.5049 - val_test v loss: 0.1170\n",
            "Epoch 2/100\n",
            "76/76 [==============================] - 1s 7ms/step - train hybrid loss: 1.3782 - train m accuracy: 0.5803 - train v accuracy: 0.2590 - train m loss: 1.2550 - train v loss: 0.1232 - val_test hybrid loss: 1.1935 - val_test m accuracy: 0.6285 - val_test v accuracy: 0.2570 - val_test m loss: 1.0894 - val_test v loss: 0.1041\n",
            "Epoch 3/100\n",
            "76/76 [==============================] - 1s 7ms/step - train hybrid loss: 1.0396 - train m accuracy: 0.6733 - train v accuracy: 0.2634 - train m loss: 0.9239 - train v loss: 0.1157 - val_test hybrid loss: 1.0842 - val_test m accuracy: 0.6252 - val_test v accuracy: 0.2570 - val_test m loss: 0.9799 - val_test v loss: 0.1042\n",
            "Epoch 4/100\n",
            "76/76 [==============================] - 1s 7ms/step - train hybrid loss: 0.8323 - train m accuracy: 0.7343 - train v accuracy: 0.2438 - train m loss: 0.7228 - train v loss: 0.1096 - val_test hybrid loss: 0.8753 - val_test m accuracy: 0.7032 - val_test v accuracy: 0.2570 - val_test m loss: 0.7759 - val_test v loss: 0.0993\n",
            "Epoch 5/100\n",
            "76/76 [==============================] - 1s 7ms/step - train hybrid loss: 0.7354 - train m accuracy: 0.7543 - train v accuracy: 0.2489 - train m loss: 0.6270 - train v loss: 0.1084 - val_test hybrid loss: 0.7967 - val_test m accuracy: 0.7280 - val_test v accuracy: 0.2570 - val_test m loss: 0.6961 - val_test v loss: 0.1006\n",
            "Epoch 6/100\n",
            "76/76 [==============================] - 1s 8ms/step - train hybrid loss: 0.6242 - train m accuracy: 0.7995 - train v accuracy: 0.2469 - train m loss: 0.5219 - train v loss: 0.1023 - val_test hybrid loss: 0.7581 - val_test m accuracy: 0.7231 - val_test v accuracy: 0.2570 - val_test m loss: 0.6585 - val_test v loss: 0.0995\n",
            "Epoch 7/100\n",
            "76/76 [==============================] - 1s 7ms/step - train hybrid loss: 0.5792 - train m accuracy: 0.8070 - train v accuracy: 0.2683 - train m loss: 0.4811 - train v loss: 0.0981 - val_test hybrid loss: 0.6879 - val_test m accuracy: 0.7629 - val_test v accuracy: 0.2570 - val_test m loss: 0.5933 - val_test v loss: 0.0946\n",
            "Epoch 8/100\n",
            "76/76 [==============================] - 1s 7ms/step - train hybrid loss: 0.5185 - train m accuracy: 0.8356 - train v accuracy: 0.2591 - train m loss: 0.4264 - train v loss: 0.0921 - val_test hybrid loss: 0.7252 - val_test m accuracy: 0.7612 - val_test v accuracy: 0.2570 - val_test m loss: 0.6324 - val_test v loss: 0.0928\n",
            "Epoch 9/100\n",
            "76/76 [==============================] - 1s 7ms/step - train hybrid loss: 0.4894 - train m accuracy: 0.8481 - train v accuracy: 0.2692 - train m loss: 0.4013 - train v loss: 0.0881 - val_test hybrid loss: 0.6403 - val_test m accuracy: 0.7894 - val_test v accuracy: 0.2570 - val_test m loss: 0.5530 - val_test v loss: 0.0873\n",
            "Epoch 10/100\n",
            "76/76 [==============================] - 1s 7ms/step - train hybrid loss: 0.4377 - train m accuracy: 0.8680 - train v accuracy: 0.2500 - train m loss: 0.3545 - train v loss: 0.0832 - val_test hybrid loss: 0.6048 - val_test m accuracy: 0.8176 - val_test v accuracy: 0.2570 - val_test m loss: 0.5150 - val_test v loss: 0.0898\n",
            "Epoch 11/100\n",
            "76/76 [==============================] - 1s 7ms/step - train hybrid loss: 0.3981 - train m accuracy: 0.8726 - train v accuracy: 0.2502 - train m loss: 0.3226 - train v loss: 0.0755 - val_test hybrid loss: 0.6453 - val_test m accuracy: 0.7894 - val_test v accuracy: 0.2570 - val_test m loss: 0.5574 - val_test v loss: 0.0878\n",
            "Epoch 12/100\n",
            "76/76 [==============================] - 1s 7ms/step - train hybrid loss: 0.3720 - train m accuracy: 0.8858 - train v accuracy: 0.2483 - train m loss: 0.2975 - train v loss: 0.0745 - val_test hybrid loss: 0.6530 - val_test m accuracy: 0.7745 - val_test v accuracy: 0.2570 - val_test m loss: 0.5723 - val_test v loss: 0.0807\n",
            "Epoch 13/100\n",
            "76/76 [==============================] - 1s 7ms/step - train hybrid loss: 0.3438 - train m accuracy: 0.8950 - train v accuracy: 0.2620 - train m loss: 0.2763 - train v loss: 0.0675 - val_test hybrid loss: 0.6405 - val_test m accuracy: 0.7944 - val_test v accuracy: 0.2570 - val_test m loss: 0.5666 - val_test v loss: 0.0739\n",
            "Epoch 14/100\n",
            "76/76 [==============================] - 1s 8ms/step - train hybrid loss: 0.3199 - train m accuracy: 0.8987 - train v accuracy: 0.2566 - train m loss: 0.2580 - train v loss: 0.0619 - val_test hybrid loss: 0.6361 - val_test m accuracy: 0.7993 - val_test v accuracy: 0.2570 - val_test m loss: 0.5626 - val_test v loss: 0.0735\n",
            "Epoch 15/100\n",
            "76/76 [==============================] - 1s 7ms/step - train hybrid loss: 0.2944 - train m accuracy: 0.9112 - train v accuracy: 0.2611 - train m loss: 0.2349 - train v loss: 0.0595 - val_test hybrid loss: 0.6254 - val_test m accuracy: 0.7960 - val_test v accuracy: 0.2570 - val_test m loss: 0.5542 - val_test v loss: 0.0712\n",
            "Epoch 16/100\n",
            "76/76 [==============================] - 1s 7ms/step - train hybrid loss: 0.2597 - train m accuracy: 0.9232 - train v accuracy: 0.2470 - train m loss: 0.2031 - train v loss: 0.0566 - val_test hybrid loss: 0.6191 - val_test m accuracy: 0.7993 - val_test v accuracy: 0.2570 - val_test m loss: 0.5542 - val_test v loss: 0.0649\n",
            "Epoch 17/100\n",
            "76/76 [==============================] - 1s 7ms/step - train hybrid loss: 0.2469 - train m accuracy: 0.9215 - train v accuracy: 0.2545 - train m loss: 0.1957 - train v loss: 0.0513 - val_test hybrid loss: 0.5848 - val_test m accuracy: 0.8076 - val_test v accuracy: 0.2570 - val_test m loss: 0.5241 - val_test v loss: 0.0607\n",
            "Epoch 18/100\n",
            "76/76 [==============================] - 1s 7ms/step - train hybrid loss: 0.2217 - train m accuracy: 0.9381 - train v accuracy: 0.2556 - train m loss: 0.1738 - train v loss: 0.0479 - val_test hybrid loss: 0.5918 - val_test m accuracy: 0.8027 - val_test v accuracy: 0.2570 - val_test m loss: 0.5305 - val_test v loss: 0.0613\n",
            "Epoch 19/100\n",
            "76/76 [==============================] - 1s 7ms/step - train hybrid loss: 0.1889 - train m accuracy: 0.9527 - train v accuracy: 0.2705 - train m loss: 0.1438 - train v loss: 0.0451 - val_test hybrid loss: 0.6042 - val_test m accuracy: 0.8126 - val_test v accuracy: 0.2570 - val_test m loss: 0.5437 - val_test v loss: 0.0605\n",
            "Epoch 20/100\n",
            "76/76 [==============================] - 1s 9ms/step - train hybrid loss: 0.1889 - train m accuracy: 0.9452 - train v accuracy: 0.2694 - train m loss: 0.1447 - train v loss: 0.0442 - val_test hybrid loss: 0.6147 - val_test m accuracy: 0.7960 - val_test v accuracy: 0.2570 - val_test m loss: 0.5510 - val_test v loss: 0.0637\n",
            "Epoch 21/100\n",
            "76/76 [==============================] - 1s 7ms/step - train hybrid loss: 0.1677 - train m accuracy: 0.9556 - train v accuracy: 0.2588 - train m loss: 0.1271 - train v loss: 0.0406 - val_test hybrid loss: 0.6734 - val_test m accuracy: 0.7894 - val_test v accuracy: 0.2570 - val_test m loss: 0.6169 - val_test v loss: 0.0565\n",
            "Epoch 22/100\n",
            "76/76 [==============================] - 1s 8ms/step - train hybrid loss: 0.1486 - train m accuracy: 0.9631 - train v accuracy: 0.2708 - train m loss: 0.1092 - train v loss: 0.0394 - val_test hybrid loss: 0.7004 - val_test m accuracy: 0.7944 - val_test v accuracy: 0.2570 - val_test m loss: 0.6436 - val_test v loss: 0.0568\n",
            "Epoch 23/100\n",
            "76/76 [==============================] - 1s 9ms/step - train hybrid loss: 0.1551 - train m accuracy: 0.9597 - train v accuracy: 0.2521 - train m loss: 0.1175 - train v loss: 0.0376 - val_test hybrid loss: 0.6545 - val_test m accuracy: 0.8027 - val_test v accuracy: 0.2570 - val_test m loss: 0.5989 - val_test v loss: 0.0557\n",
            "Epoch 24/100\n",
            "76/76 [==============================] - 1s 7ms/step - train hybrid loss: 0.1389 - train m accuracy: 0.9651 - train v accuracy: 0.2587 - train m loss: 0.1024 - train v loss: 0.0365 - val_test hybrid loss: 0.6994 - val_test m accuracy: 0.7910 - val_test v accuracy: 0.2570 - val_test m loss: 0.6444 - val_test v loss: 0.0551\n",
            "Epoch 25/100\n",
            "76/76 [==============================] - 1s 7ms/step - train hybrid loss: 0.0982 - train m accuracy: 0.9842 - train v accuracy: 0.2553 - train m loss: 0.0657 - train v loss: 0.0325 - val_test hybrid loss: 0.6683 - val_test m accuracy: 0.8093 - val_test v accuracy: 0.2570 - val_test m loss: 0.6094 - val_test v loss: 0.0588\n",
            "Epoch 26/100\n",
            "76/76 [==============================] - 1s 7ms/step - train hybrid loss: 0.0840 - train m accuracy: 0.9892 - train v accuracy: 0.2425 - train m loss: 0.0504 - train v loss: 0.0336 - val_test hybrid loss: 0.7238 - val_test m accuracy: 0.7944 - val_test v accuracy: 0.2570 - val_test m loss: 0.6637 - val_test v loss: 0.0600\n",
            "Epoch 27/100\n",
            "76/76 [==============================] - 1s 7ms/step - train hybrid loss: 0.0843 - train m accuracy: 0.9871 - train v accuracy: 0.2636 - train m loss: 0.0524 - train v loss: 0.0319 - val_test hybrid loss: 0.6976 - val_test m accuracy: 0.8109 - val_test v accuracy: 0.2570 - val_test m loss: 0.6430 - val_test v loss: 0.0546\n",
            "Epoch 28/100\n",
            "76/76 [==============================] - 1s 7ms/step - train hybrid loss: 0.0736 - train m accuracy: 0.9896 - train v accuracy: 0.2620 - train m loss: 0.0436 - train v loss: 0.0300 - val_test hybrid loss: 0.7505 - val_test m accuracy: 0.8027 - val_test v accuracy: 0.2570 - val_test m loss: 0.6940 - val_test v loss: 0.0564\n",
            "Epoch 29/100\n",
            "76/76 [==============================] - 1s 7ms/step - train hybrid loss: 0.0616 - train m accuracy: 0.9946 - train v accuracy: 0.2665 - train m loss: 0.0330 - train v loss: 0.0285 - val_test hybrid loss: 0.7128 - val_test m accuracy: 0.8126 - val_test v accuracy: 0.2570 - val_test m loss: 0.6604 - val_test v loss: 0.0524\n",
            "Epoch 30/100\n",
            "76/76 [==============================] - 1s 8ms/step - train hybrid loss: 0.0686 - train m accuracy: 0.9909 - train v accuracy: 0.2577 - train m loss: 0.0404 - train v loss: 0.0283 - val_test hybrid loss: 0.7513 - val_test m accuracy: 0.7993 - val_test v accuracy: 0.2570 - val_test m loss: 0.6916 - val_test v loss: 0.0597\n",
            "Epoch 31/100\n",
            "76/76 [==============================] - 1s 7ms/step - train hybrid loss: 0.0587 - train m accuracy: 0.9934 - train v accuracy: 0.2578 - train m loss: 0.0324 - train v loss: 0.0263 - val_test hybrid loss: 0.8042 - val_test m accuracy: 0.8027 - val_test v accuracy: 0.2570 - val_test m loss: 0.7493 - val_test v loss: 0.0549\n",
            "Epoch 32/100\n",
            "76/76 [==============================] - 1s 9ms/step - train hybrid loss: 0.0559 - train m accuracy: 0.9954 - train v accuracy: 0.2776 - train m loss: 0.0273 - train v loss: 0.0286 - val_test hybrid loss: 0.7510 - val_test m accuracy: 0.8126 - val_test v accuracy: 0.2570 - val_test m loss: 0.6969 - val_test v loss: 0.0541\n",
            "Epoch 33/100\n",
            "76/76 [==============================] - 1s 7ms/step - train hybrid loss: 0.0408 - train m accuracy: 0.9979 - train v accuracy: 0.2673 - train m loss: 0.0171 - train v loss: 0.0238 - val_test hybrid loss: 0.7443 - val_test m accuracy: 0.8126 - val_test v accuracy: 0.2570 - val_test m loss: 0.6832 - val_test v loss: 0.0612\n",
            "Epoch 34/100\n",
            "76/76 [==============================] - 1s 8ms/step - train hybrid loss: 0.0383 - train m accuracy: 1.0000 - train v accuracy: 0.2503 - train m loss: 0.0129 - train v loss: 0.0255 - val_test hybrid loss: 0.7327 - val_test m accuracy: 0.8342 - val_test v accuracy: 0.2570 - val_test m loss: 0.6741 - val_test v loss: 0.0586\n",
            "Epoch 35/100\n",
            "76/76 [==============================] - 1s 7ms/step - train hybrid loss: 0.0320 - train m accuracy: 1.0000 - train v accuracy: 0.2608 - train m loss: 0.0114 - train v loss: 0.0206 - val_test hybrid loss: 0.7358 - val_test m accuracy: 0.8259 - val_test v accuracy: 0.2570 - val_test m loss: 0.6851 - val_test v loss: 0.0507\n",
            "Epoch 36/100\n",
            "76/76 [==============================] - 1s 7ms/step - train hybrid loss: 0.0268 - train m accuracy: 1.0000 - train v accuracy: 0.2693 - train m loss: 0.0066 - train v loss: 0.0202 - val_test hybrid loss: 0.7426 - val_test m accuracy: 0.8109 - val_test v accuracy: 0.2570 - val_test m loss: 0.6913 - val_test v loss: 0.0513\n",
            "Epoch 37/100\n",
            "76/76 [==============================] - 1s 8ms/step - train hybrid loss: 0.0254 - train m accuracy: 1.0000 - train v accuracy: 0.2667 - train m loss: 0.0057 - train v loss: 0.0197 - val_test hybrid loss: 0.7671 - val_test m accuracy: 0.8159 - val_test v accuracy: 0.2570 - val_test m loss: 0.7167 - val_test v loss: 0.0504\n",
            "Epoch 38/100\n",
            "76/76 [==============================] - 1s 7ms/step - train hybrid loss: 0.0225 - train m accuracy: 1.0000 - train v accuracy: 0.2546 - train m loss: 0.0050 - train v loss: 0.0175 - val_test hybrid loss: 0.7774 - val_test m accuracy: 0.8159 - val_test v accuracy: 0.2570 - val_test m loss: 0.7297 - val_test v loss: 0.0477\n",
            "Epoch 39/100\n",
            "76/76 [==============================] - 1s 7ms/step - train hybrid loss: 0.0231 - train m accuracy: 1.0000 - train v accuracy: 0.2550 - train m loss: 0.0048 - train v loss: 0.0183 - val_test hybrid loss: 0.8081 - val_test m accuracy: 0.8143 - val_test v accuracy: 0.2570 - val_test m loss: 0.7550 - val_test v loss: 0.0531\n",
            "Epoch 40/100\n",
            "76/76 [==============================] - 1s 7ms/step - train hybrid loss: 0.0202 - train m accuracy: 1.0000 - train v accuracy: 0.2592 - train m loss: 0.0042 - train v loss: 0.0160 - val_test hybrid loss: 0.7838 - val_test m accuracy: 0.8093 - val_test v accuracy: 0.2570 - val_test m loss: 0.7358 - val_test v loss: 0.0480\n",
            "Epoch 41/100\n",
            "76/76 [==============================] - 1s 8ms/step - train hybrid loss: 0.0176 - train m accuracy: 1.0000 - train v accuracy: 0.2588 - train m loss: 0.0039 - train v loss: 0.0137 - val_test hybrid loss: 0.7982 - val_test m accuracy: 0.8159 - val_test v accuracy: 0.2570 - val_test m loss: 0.7512 - val_test v loss: 0.0471\n",
            "Epoch 42/100\n",
            "76/76 [==============================] - 1s 7ms/step - train hybrid loss: 0.0181 - train m accuracy: 1.0000 - train v accuracy: 0.2543 - train m loss: 0.0037 - train v loss: 0.0144 - val_test hybrid loss: 0.7890 - val_test m accuracy: 0.8176 - val_test v accuracy: 0.2570 - val_test m loss: 0.7421 - val_test v loss: 0.0469\n",
            "Epoch 43/100\n",
            "76/76 [==============================] - 1s 7ms/step - train hybrid loss: 0.0166 - train m accuracy: 1.0000 - train v accuracy: 0.2706 - train m loss: 0.0034 - train v loss: 0.0131 - val_test hybrid loss: 0.8029 - val_test m accuracy: 0.8093 - val_test v accuracy: 0.2570 - val_test m loss: 0.7536 - val_test v loss: 0.0494\n",
            "Epoch 44/100\n",
            "76/76 [==============================] - 1s 9ms/step - train hybrid loss: 0.0163 - train m accuracy: 1.0000 - train v accuracy: 0.2509 - train m loss: 0.0033 - train v loss: 0.0130 - val_test hybrid loss: 0.7974 - val_test m accuracy: 0.8192 - val_test v accuracy: 0.2570 - val_test m loss: 0.7471 - val_test v loss: 0.0503\n",
            "Epoch 45/100\n",
            "76/76 [==============================] - 1s 7ms/step - train hybrid loss: 0.0151 - train m accuracy: 1.0000 - train v accuracy: 0.2605 - train m loss: 0.0030 - train v loss: 0.0121 - val_test hybrid loss: 0.8124 - val_test m accuracy: 0.8126 - val_test v accuracy: 0.2570 - val_test m loss: 0.7635 - val_test v loss: 0.0489\n",
            "Epoch 46/100\n",
            "76/76 [==============================] - 1s 8ms/step - train hybrid loss: 0.0135 - train m accuracy: 1.0000 - train v accuracy: 0.2503 - train m loss: 0.0028 - train v loss: 0.0108 - val_test hybrid loss: 0.8227 - val_test m accuracy: 0.8109 - val_test v accuracy: 0.2570 - val_test m loss: 0.7710 - val_test v loss: 0.0517\n",
            "Epoch 47/100\n",
            "76/76 [==============================] - 1s 7ms/step - train hybrid loss: 0.0164 - train m accuracy: 1.0000 - train v accuracy: 0.2412 - train m loss: 0.0029 - train v loss: 0.0135 - val_test hybrid loss: 0.8341 - val_test m accuracy: 0.8159 - val_test v accuracy: 0.2570 - val_test m loss: 0.7855 - val_test v loss: 0.0486\n",
            "Epoch 48/100\n",
            "76/76 [==============================] - 1s 8ms/step - train hybrid loss: 0.0146 - train m accuracy: 1.0000 - train v accuracy: 0.2689 - train m loss: 0.0027 - train v loss: 0.0120 - val_test hybrid loss: 0.8266 - val_test m accuracy: 0.8176 - val_test v accuracy: 0.2570 - val_test m loss: 0.7799 - val_test v loss: 0.0467\n",
            "Epoch 49/100\n",
            "76/76 [==============================] - 1s 8ms/step - train hybrid loss: 0.0149 - train m accuracy: 1.0000 - train v accuracy: 0.2555 - train m loss: 0.0026 - train v loss: 0.0124 - val_test hybrid loss: 0.8444 - val_test m accuracy: 0.8109 - val_test v accuracy: 0.2570 - val_test m loss: 0.7950 - val_test v loss: 0.0494\n",
            "Epoch 50/100\n",
            "76/76 [==============================] - 1s 7ms/step - train hybrid loss: 0.0161 - train m accuracy: 1.0000 - train v accuracy: 0.2606 - train m loss: 0.0027 - train v loss: 0.0135 - val_test hybrid loss: 0.8569 - val_test m accuracy: 0.8109 - val_test v accuracy: 0.2570 - val_test m loss: 0.8080 - val_test v loss: 0.0490\n",
            "Epoch 51/100\n",
            "76/76 [==============================] - 1s 7ms/step - train hybrid loss: 0.0137 - train m accuracy: 1.0000 - train v accuracy: 0.2707 - train m loss: 0.0024 - train v loss: 0.0113 - val_test hybrid loss: 0.8436 - val_test m accuracy: 0.8159 - val_test v accuracy: 0.2570 - val_test m loss: 0.7986 - val_test v loss: 0.0449\n",
            "Epoch 52/100\n",
            "76/76 [==============================] - 1s 7ms/step - train hybrid loss: 0.0132 - train m accuracy: 1.0000 - train v accuracy: 0.2576 - train m loss: 0.0022 - train v loss: 0.0110 - val_test hybrid loss: 0.8605 - val_test m accuracy: 0.8076 - val_test v accuracy: 0.2570 - val_test m loss: 0.8113 - val_test v loss: 0.0492\n",
            "Epoch 53/100\n",
            "76/76 [==============================] - 1s 7ms/step - train hybrid loss: 0.0125 - train m accuracy: 1.0000 - train v accuracy: 0.2701 - train m loss: 0.0022 - train v loss: 0.0103 - val_test hybrid loss: 0.8611 - val_test m accuracy: 0.8126 - val_test v accuracy: 0.2570 - val_test m loss: 0.8124 - val_test v loss: 0.0488\n",
            "Epoch 54/100\n",
            "76/76 [==============================] - 1s 7ms/step - train hybrid loss: 0.0131 - train m accuracy: 1.0000 - train v accuracy: 0.2671 - train m loss: 0.0022 - train v loss: 0.0109 - val_test hybrid loss: 0.8603 - val_test m accuracy: 0.8143 - val_test v accuracy: 0.2570 - val_test m loss: 0.8135 - val_test v loss: 0.0468\n",
            "Epoch 55/100\n",
            "76/76 [==============================] - 1s 8ms/step - train hybrid loss: 0.0152 - train m accuracy: 1.0000 - train v accuracy: 0.2378 - train m loss: 0.0022 - train v loss: 0.0130 - val_test hybrid loss: 0.9058 - val_test m accuracy: 0.8076 - val_test v accuracy: 0.2570 - val_test m loss: 0.8534 - val_test v loss: 0.0524\n",
            "Epoch 56/100\n",
            "76/76 [==============================] - 1s 8ms/step - train hybrid loss: 0.0119 - train m accuracy: 1.0000 - train v accuracy: 0.2490 - train m loss: 0.0022 - train v loss: 0.0097 - val_test hybrid loss: 0.8978 - val_test m accuracy: 0.8109 - val_test v accuracy: 0.2570 - val_test m loss: 0.8537 - val_test v loss: 0.0441\n",
            "Epoch 57/100\n",
            "76/76 [==============================] - 1s 7ms/step - train hybrid loss: 0.0102 - train m accuracy: 1.0000 - train v accuracy: 0.2681 - train m loss: 0.0018 - train v loss: 0.0084 - val_test hybrid loss: 0.8990 - val_test m accuracy: 0.8176 - val_test v accuracy: 0.2570 - val_test m loss: 0.8513 - val_test v loss: 0.0476\n",
            "Epoch 58/100\n",
            "76/76 [==============================] - 1s 7ms/step - train hybrid loss: 0.0103 - train m accuracy: 1.0000 - train v accuracy: 0.2711 - train m loss: 0.0017 - train v loss: 0.0086 - val_test hybrid loss: 0.9011 - val_test m accuracy: 0.8143 - val_test v accuracy: 0.2570 - val_test m loss: 0.8531 - val_test v loss: 0.0480\n",
            "Epoch 59/100\n",
            "76/76 [==============================] - 1s 7ms/step - train hybrid loss: 0.0137 - train m accuracy: 1.0000 - train v accuracy: 0.2560 - train m loss: 0.0019 - train v loss: 0.0118 - val_test hybrid loss: 0.8827 - val_test m accuracy: 0.8093 - val_test v accuracy: 0.2570 - val_test m loss: 0.8337 - val_test v loss: 0.0489\n",
            "Epoch 60/100\n",
            "76/76 [==============================] - 1s 7ms/step - train hybrid loss: 0.0128 - train m accuracy: 1.0000 - train v accuracy: 0.2583 - train m loss: 0.0018 - train v loss: 0.0110 - val_test hybrid loss: 0.9038 - val_test m accuracy: 0.8159 - val_test v accuracy: 0.2570 - val_test m loss: 0.8568 - val_test v loss: 0.0470\n",
            "Epoch 61/100\n",
            "76/76 [==============================] - 1s 7ms/step - train hybrid loss: 0.0730 - train m accuracy: 0.9875 - train v accuracy: 0.2420 - train m loss: 0.0564 - train v loss: 0.0166 - val_test hybrid loss: 1.9856 - val_test m accuracy: 0.7015 - val_test v accuracy: 0.2570 - val_test m loss: 1.9249 - val_test v loss: 0.0608\n",
            "Epoch 62/100\n",
            "76/76 [==============================] - 1s 8ms/step - train hybrid loss: 0.5414 - train m accuracy: 0.8381 - train v accuracy: 0.2596 - train m loss: 0.4897 - train v loss: 0.0517 - val_test hybrid loss: 0.7678 - val_test m accuracy: 0.7678 - val_test v accuracy: 0.2570 - val_test m loss: 0.7085 - val_test v loss: 0.0593\n",
            "Epoch 63/100\n",
            "76/76 [==============================] - 1s 8ms/step - train hybrid loss: 0.2323 - train m accuracy: 0.9240 - train v accuracy: 0.2680 - train m loss: 0.1984 - train v loss: 0.0338 - val_test hybrid loss: 0.9541 - val_test m accuracy: 0.7579 - val_test v accuracy: 0.2570 - val_test m loss: 0.8938 - val_test v loss: 0.0603\n",
            "Epoch 64/100\n",
            "76/76 [==============================] - 1s 7ms/step - train hybrid loss: 0.2044 - train m accuracy: 0.9411 - train v accuracy: 0.2406 - train m loss: 0.1776 - train v loss: 0.0268 - val_test hybrid loss: 0.7839 - val_test m accuracy: 0.8010 - val_test v accuracy: 0.2570 - val_test m loss: 0.7290 - val_test v loss: 0.0549\n",
            "Epoch 65/100\n",
            "76/76 [==============================] - 1s 8ms/step - train hybrid loss: 0.1275 - train m accuracy: 0.9685 - train v accuracy: 0.2456 - train m loss: 0.1020 - train v loss: 0.0255 - val_test hybrid loss: 0.8001 - val_test m accuracy: 0.8109 - val_test v accuracy: 0.2570 - val_test m loss: 0.7478 - val_test v loss: 0.0522\n",
            "Epoch 66/100\n",
            "76/76 [==============================] - 1s 7ms/step - train hybrid loss: 0.0646 - train m accuracy: 0.9863 - train v accuracy: 0.2574 - train m loss: 0.0433 - train v loss: 0.0213 - val_test hybrid loss: 0.7892 - val_test m accuracy: 0.8176 - val_test v accuracy: 0.2570 - val_test m loss: 0.7373 - val_test v loss: 0.0519\n",
            "Epoch 67/100\n",
            "76/76 [==============================] - 1s 8ms/step - train hybrid loss: 0.0377 - train m accuracy: 0.9958 - train v accuracy: 0.2481 - train m loss: 0.0218 - train v loss: 0.0158 - val_test hybrid loss: 0.8198 - val_test m accuracy: 0.8159 - val_test v accuracy: 0.2570 - val_test m loss: 0.7724 - val_test v loss: 0.0474\n",
            "Epoch 68/100\n",
            "76/76 [==============================] - 1s 9ms/step - train hybrid loss: 0.0215 - train m accuracy: 1.0000 - train v accuracy: 0.2843 - train m loss: 0.0082 - train v loss: 0.0133 - val_test hybrid loss: 0.8722 - val_test m accuracy: 0.8143 - val_test v accuracy: 0.2570 - val_test m loss: 0.8218 - val_test v loss: 0.0504\n",
            "Epoch 69/100\n",
            "76/76 [==============================] - 1s 7ms/step - train hybrid loss: 0.0166 - train m accuracy: 1.0000 - train v accuracy: 0.2713 - train m loss: 0.0044 - train v loss: 0.0122 - val_test hybrid loss: 0.8576 - val_test m accuracy: 0.8176 - val_test v accuracy: 0.2570 - val_test m loss: 0.8097 - val_test v loss: 0.0479\n",
            "Epoch 70/100\n",
            "76/76 [==============================] - 1s 9ms/step - train hybrid loss: 0.0119 - train m accuracy: 1.0000 - train v accuracy: 0.2429 - train m loss: 0.0027 - train v loss: 0.0091 - val_test hybrid loss: 0.8580 - val_test m accuracy: 0.8192 - val_test v accuracy: 0.2570 - val_test m loss: 0.8115 - val_test v loss: 0.0464\n",
            "Epoch 71/100\n",
            "76/76 [==============================] - 1s 8ms/step - train hybrid loss: 0.0102 - train m accuracy: 1.0000 - train v accuracy: 0.2648 - train m loss: 0.0023 - train v loss: 0.0079 - val_test hybrid loss: 0.8764 - val_test m accuracy: 0.8126 - val_test v accuracy: 0.2570 - val_test m loss: 0.8309 - val_test v loss: 0.0455\n",
            "Epoch 72/100\n",
            "76/76 [==============================] - 1s 8ms/step - train hybrid loss: 0.0085 - train m accuracy: 1.0000 - train v accuracy: 0.2425 - train m loss: 0.0020 - train v loss: 0.0065 - val_test hybrid loss: 0.8889 - val_test m accuracy: 0.8143 - val_test v accuracy: 0.2570 - val_test m loss: 0.8426 - val_test v loss: 0.0462\n",
            "Epoch 73/100\n",
            "76/76 [==============================] - 1s 8ms/step - train hybrid loss: 0.0075 - train m accuracy: 1.0000 - train v accuracy: 0.2581 - train m loss: 0.0017 - train v loss: 0.0058 - val_test hybrid loss: 0.8917 - val_test m accuracy: 0.8126 - val_test v accuracy: 0.2570 - val_test m loss: 0.8424 - val_test v loss: 0.0493\n",
            "Epoch 74/100\n",
            "76/76 [==============================] - 1s 9ms/step - train hybrid loss: 0.0073 - train m accuracy: 1.0000 - train v accuracy: 0.2482 - train m loss: 0.0016 - train v loss: 0.0057 - val_test hybrid loss: 0.8999 - val_test m accuracy: 0.8192 - val_test v accuracy: 0.2570 - val_test m loss: 0.8535 - val_test v loss: 0.0464\n",
            "Epoch 75/100\n",
            "76/76 [==============================] - 1s 8ms/step - train hybrid loss: 0.0065 - train m accuracy: 1.0000 - train v accuracy: 0.2604 - train m loss: 0.0015 - train v loss: 0.0050 - val_test hybrid loss: 0.9019 - val_test m accuracy: 0.8109 - val_test v accuracy: 0.2570 - val_test m loss: 0.8545 - val_test v loss: 0.0474\n",
            "Epoch 76/100\n",
            "76/76 [==============================] - 1s 7ms/step - train hybrid loss: 0.0069 - train m accuracy: 1.0000 - train v accuracy: 0.2585 - train m loss: 0.0014 - train v loss: 0.0055 - val_test hybrid loss: 0.9114 - val_test m accuracy: 0.8126 - val_test v accuracy: 0.2570 - val_test m loss: 0.8656 - val_test v loss: 0.0458\n",
            "Epoch 77/100\n",
            "76/76 [==============================] - 1s 8ms/step - train hybrid loss: 0.0059 - train m accuracy: 1.0000 - train v accuracy: 0.2635 - train m loss: 0.0013 - train v loss: 0.0046 - val_test hybrid loss: 0.9236 - val_test m accuracy: 0.8143 - val_test v accuracy: 0.2570 - val_test m loss: 0.8770 - val_test v loss: 0.0467\n",
            "Epoch 78/100\n",
            "76/76 [==============================] - 1s 8ms/step - train hybrid loss: 0.0056 - train m accuracy: 1.0000 - train v accuracy: 0.2600 - train m loss: 0.0012 - train v loss: 0.0044 - val_test hybrid loss: 0.9384 - val_test m accuracy: 0.8109 - val_test v accuracy: 0.2570 - val_test m loss: 0.8912 - val_test v loss: 0.0473\n",
            "Epoch 79/100\n",
            "76/76 [==============================] - 1s 8ms/step - train hybrid loss: 0.0053 - train m accuracy: 1.0000 - train v accuracy: 0.2526 - train m loss: 0.0011 - train v loss: 0.0042 - val_test hybrid loss: 0.9380 - val_test m accuracy: 0.8192 - val_test v accuracy: 0.2570 - val_test m loss: 0.8934 - val_test v loss: 0.0445\n",
            "Epoch 80/100\n",
            "76/76 [==============================] - 1s 9ms/step - train hybrid loss: 0.0047 - train m accuracy: 1.0000 - train v accuracy: 0.2539 - train m loss: 0.0011 - train v loss: 0.0037 - val_test hybrid loss: 0.9464 - val_test m accuracy: 0.8159 - val_test v accuracy: 0.2570 - val_test m loss: 0.8991 - val_test v loss: 0.0474\n",
            "Epoch 81/100\n",
            "76/76 [==============================] - 1s 8ms/step - train hybrid loss: 0.0043 - train m accuracy: 1.0000 - train v accuracy: 0.2699 - train m loss: 9.2719e-04 - train v loss: 0.0033 - val_test hybrid loss: 0.9419 - val_test m accuracy: 0.8192 - val_test v accuracy: 0.2570 - val_test m loss: 0.8973 - val_test v loss: 0.0446\n",
            "Epoch 82/100\n",
            "76/76 [==============================] - 1s 8ms/step - train hybrid loss: 0.0043 - train m accuracy: 1.0000 - train v accuracy: 0.2555 - train m loss: 9.2283e-04 - train v loss: 0.0034 - val_test hybrid loss: 0.9622 - val_test m accuracy: 0.8176 - val_test v accuracy: 0.2570 - val_test m loss: 0.9160 - val_test v loss: 0.0462\n",
            "Epoch 83/100\n",
            "76/76 [==============================] - 1s 8ms/step - train hybrid loss: 0.0041 - train m accuracy: 1.0000 - train v accuracy: 0.2531 - train m loss: 8.4380e-04 - train v loss: 0.0032 - val_test hybrid loss: 0.9695 - val_test m accuracy: 0.8192 - val_test v accuracy: 0.2570 - val_test m loss: 0.9237 - val_test v loss: 0.0457\n",
            "Epoch 84/100\n",
            "76/76 [==============================] - 1s 8ms/step - train hybrid loss: 0.0051 - train m accuracy: 1.0000 - train v accuracy: 0.2606 - train m loss: 8.5074e-04 - train v loss: 0.0043 - val_test hybrid loss: 0.9563 - val_test m accuracy: 0.8109 - val_test v accuracy: 0.2570 - val_test m loss: 0.9085 - val_test v loss: 0.0479\n",
            "Epoch 85/100\n",
            "76/76 [==============================] - 1s 8ms/step - train hybrid loss: 0.0062 - train m accuracy: 1.0000 - train v accuracy: 0.2456 - train m loss: 8.2383e-04 - train v loss: 0.0054 - val_test hybrid loss: 0.9679 - val_test m accuracy: 0.8043 - val_test v accuracy: 0.2570 - val_test m loss: 0.9211 - val_test v loss: 0.0467\n",
            "Epoch 86/100\n",
            "76/76 [==============================] - 1s 8ms/step - train hybrid loss: 0.0068 - train m accuracy: 1.0000 - train v accuracy: 0.2558 - train m loss: 8.6143e-04 - train v loss: 0.0060 - val_test hybrid loss: 0.9612 - val_test m accuracy: 0.8060 - val_test v accuracy: 0.2570 - val_test m loss: 0.9161 - val_test v loss: 0.0451\n",
            "Epoch 87/100\n",
            "76/76 [==============================] - 1s 8ms/step - train hybrid loss: 0.0064 - train m accuracy: 1.0000 - train v accuracy: 0.2640 - train m loss: 8.8751e-04 - train v loss: 0.0055 - val_test hybrid loss: 0.9596 - val_test m accuracy: 0.8093 - val_test v accuracy: 0.2570 - val_test m loss: 0.9129 - val_test v loss: 0.0467\n",
            "Epoch 88/100\n",
            "76/76 [==============================] - 1s 8ms/step - train hybrid loss: 0.0052 - train m accuracy: 1.0000 - train v accuracy: 0.2601 - train m loss: 7.7511e-04 - train v loss: 0.0044 - val_test hybrid loss: 0.9546 - val_test m accuracy: 0.8126 - val_test v accuracy: 0.2570 - val_test m loss: 0.9074 - val_test v loss: 0.0472\n",
            "Epoch 89/100\n",
            "76/76 [==============================] - 1s 8ms/step - train hybrid loss: 0.0052 - train m accuracy: 1.0000 - train v accuracy: 0.2615 - train m loss: 7.6603e-04 - train v loss: 0.0044 - val_test hybrid loss: 0.9779 - val_test m accuracy: 0.8159 - val_test v accuracy: 0.2570 - val_test m loss: 0.9321 - val_test v loss: 0.0458\n",
            "Epoch 90/100\n",
            "76/76 [==============================] - 1s 8ms/step - train hybrid loss: 0.0070 - train m accuracy: 1.0000 - train v accuracy: 0.2744 - train m loss: 7.3982e-04 - train v loss: 0.0062 - val_test hybrid loss: 0.9862 - val_test m accuracy: 0.8109 - val_test v accuracy: 0.2570 - val_test m loss: 0.9366 - val_test v loss: 0.0496\n",
            "Epoch 91/100\n",
            "76/76 [==============================] - 1s 8ms/step - train hybrid loss: 0.0069 - train m accuracy: 1.0000 - train v accuracy: 0.2513 - train m loss: 7.9088e-04 - train v loss: 0.0061 - val_test hybrid loss: 0.9660 - val_test m accuracy: 0.8126 - val_test v accuracy: 0.2570 - val_test m loss: 0.9194 - val_test v loss: 0.0466\n",
            "Epoch 92/100\n",
            "76/76 [==============================] - 1s 8ms/step - train hybrid loss: 0.0052 - train m accuracy: 1.0000 - train v accuracy: 0.2711 - train m loss: 7.4592e-04 - train v loss: 0.0045 - val_test hybrid loss: 0.9809 - val_test m accuracy: 0.8109 - val_test v accuracy: 0.2570 - val_test m loss: 0.9377 - val_test v loss: 0.0432\n",
            "Epoch 93/100\n",
            "76/76 [==============================] - 1s 10ms/step - train hybrid loss: 0.0053 - train m accuracy: 1.0000 - train v accuracy: 0.2525 - train m loss: 6.7766e-04 - train v loss: 0.0046 - val_test hybrid loss: 0.9879 - val_test m accuracy: 0.8093 - val_test v accuracy: 0.2570 - val_test m loss: 0.9429 - val_test v loss: 0.0450\n",
            "Epoch 94/100\n",
            "76/76 [==============================] - 1s 9ms/step - train hybrid loss: 0.0060 - train m accuracy: 1.0000 - train v accuracy: 0.2649 - train m loss: 6.7519e-04 - train v loss: 0.0053 - val_test hybrid loss: 0.9971 - val_test m accuracy: 0.8159 - val_test v accuracy: 0.2570 - val_test m loss: 0.9509 - val_test v loss: 0.0462\n",
            "Epoch 95/100\n",
            "76/76 [==============================] - 1s 8ms/step - train hybrid loss: 0.0051 - train m accuracy: 1.0000 - train v accuracy: 0.2521 - train m loss: 6.2335e-04 - train v loss: 0.0045 - val_test hybrid loss: 1.0070 - val_test m accuracy: 0.8126 - val_test v accuracy: 0.2570 - val_test m loss: 0.9622 - val_test v loss: 0.0448\n",
            "Epoch 96/100\n",
            "76/76 [==============================] - 1s 8ms/step - train hybrid loss: 0.0077 - train m accuracy: 1.0000 - train v accuracy: 0.2488 - train m loss: 7.2305e-04 - train v loss: 0.0070 - val_test hybrid loss: 0.9650 - val_test m accuracy: 0.8192 - val_test v accuracy: 0.2570 - val_test m loss: 0.9185 - val_test v loss: 0.0465\n",
            "Epoch 97/100\n",
            "76/76 [==============================] - 1s 13ms/step - train hybrid loss: 0.0059 - train m accuracy: 1.0000 - train v accuracy: 0.2681 - train m loss: 7.1894e-04 - train v loss: 0.0052 - val_test hybrid loss: 0.9811 - val_test m accuracy: 0.8176 - val_test v accuracy: 0.2570 - val_test m loss: 0.9322 - val_test v loss: 0.0489\n",
            "Epoch 98/100\n",
            "76/76 [==============================] - 1s 10ms/step - train hybrid loss: 0.0085 - train m accuracy: 1.0000 - train v accuracy: 0.2540 - train m loss: 8.0041e-04 - train v loss: 0.0077 - val_test hybrid loss: 0.9580 - val_test m accuracy: 0.8176 - val_test v accuracy: 0.2570 - val_test m loss: 0.9069 - val_test v loss: 0.0511\n",
            "Epoch 99/100\n",
            "76/76 [==============================] - 1s 8ms/step - train hybrid loss: 0.0076 - train m accuracy: 1.0000 - train v accuracy: 0.2571 - train m loss: 8.5842e-04 - train v loss: 0.0067 - val_test hybrid loss: 0.9478 - val_test m accuracy: 0.8176 - val_test v accuracy: 0.2570 - val_test m loss: 0.9013 - val_test v loss: 0.0465\n",
            "Epoch 100/100\n",
            "76/76 [==============================] - 1s 8ms/step - train hybrid loss: 0.0060 - train m accuracy: 1.0000 - train v accuracy: 0.2588 - train m loss: 7.0146e-04 - train v loss: 0.0053 - val_test hybrid loss: 0.9968 - val_test m accuracy: 0.8176 - val_test v accuracy: 0.2570 - val_test m loss: 0.9512 - val_test v loss: 0.0457\n"
          ]
        }
      ],
      "source": [
        "model = ConvResNN()\n",
        "optimizer = Adam(1e-3)\n",
        "model.compile(optimizer)\n",
        "\n",
        "start_time = time()\n",
        "history = model.fit(X_train, [y_move_train, y_value_train],\n",
        "                    epochs=100,\n",
        "                    validation_split=0.2)\n",
        "running_time = time() - start_time"
      ]
    },
    {
      "cell_type": "markdown",
      "metadata": {
        "id": "8St58sWacze2"
      },
      "source": [
        "## Visualization\n",
        "\n",
        "Get the loss and accuracy on training set and validation set by accessing model.history.history\n",
        "\n",
        "Plot the two loss curves where the x axis is the number of epochs and y axis is the loss.\n",
        "\n",
        "Plot the two accuracy curves where the x-axis is the number of epochs and y-axis is the accuracy."
      ]
    },
    {
      "cell_type": "code",
      "source": [
        "list(history.history.keys())"
      ],
      "metadata": {
        "colab": {
          "base_uri": "https://localhost:8080/"
        },
        "id": "6UrFuUQRs7fZ",
        "outputId": "35637c1e-ba30-493f-bc17-ee56f2dd3104"
      },
      "execution_count": 9,
      "outputs": [
        {
          "output_type": "execute_result",
          "data": {
            "text/plain": [
              "['train hybrid loss',\n",
              " 'train m accuracy',\n",
              " 'train v accuracy',\n",
              " 'train m loss',\n",
              " 'train v loss',\n",
              " 'val_test hybrid loss',\n",
              " 'val_test m accuracy',\n",
              " 'val_test v accuracy',\n",
              " 'val_test m loss',\n",
              " 'val_test v loss']"
            ]
          },
          "metadata": {},
          "execution_count": 9
        }
      ]
    },
    {
      "cell_type": "code",
      "execution_count": 11,
      "metadata": {
        "id": "_6QRnTkTvU-z",
        "colab": {
          "base_uri": "https://localhost:8080/",
          "height": 295
        },
        "outputId": "8f0fd83d-f6ba-485d-be4c-10791267cbb0"
      },
      "outputs": [
        {
          "output_type": "display_data",
          "data": {
            "text/plain": [
              "<Figure size 432x288 with 1 Axes>"
            ],
            "image/png": "[encoded data removed]"
          },
          "metadata": {
            "needs_background": "light"
          }
        }
      ],
      "source": [
        "plt.plot(history.history['train hybrid loss'], label = 'train')\n",
        "plt.plot(history.history['val_test hybrid loss'], label = 'validation')\n",
        "plt.xlabel('Epoch')\n",
        "plt.ylabel('Loss')\n",
        "plt.legend(loc='lower right')\n",
        "plt.title('Hybrid Loss')\n",
        "plt.show()"
      ]
    },
    {
      "cell_type": "code",
      "source": [
        "plt.plot(history.history['train m loss'],     label = 'train')\n",
        "plt.plot(history.history['val_test m loss'], label = 'validation')\n",
        "plt.xlabel('Epoch')\n",
        "plt.ylabel('SCCE')\n",
        "plt.legend(loc='lower right')\n",
        "plt.title('Move Loss (SCCE)')\n",
        "plt.show()"
      ],
      "metadata": {
        "colab": {
          "base_uri": "https://localhost:8080/",
          "height": 295
        },
        "id": "ZEMUS3K2Sau2",
        "outputId": "ed5b821d-fd67-403c-f5b9-71700172a248"
      },
      "execution_count": 30,
      "outputs": [
        {
          "output_type": "display_data",
          "data": {
            "text/plain": [
              "<Figure size 432x288 with 1 Axes>"
            ],
            "image/png": "[encoded data removed]"
          },
          "metadata": {
            "needs_background": "light"
          }
        }
      ]
    },
    {
      "cell_type": "code",
      "execution_count": 27,
      "metadata": {
        "id": "PJxn7iC-vU-0",
        "colab": {
          "base_uri": "https://localhost:8080/",
          "height": 295
        },
        "outputId": "2bb66f6b-e30c-4bdb-e7c5-e3e88055ee28"
      },
      "outputs": [
        {
          "output_type": "display_data",
          "data": {
            "text/plain": [
              "<Figure size 432x288 with 1 Axes>"
            ],
            "image/png": "[encoded data removed]"
          },
          "metadata": {
            "needs_background": "light"
          }
        }
      ],
      "source": [
        "plt.plot(history.history['train v loss'],     label = 'train')\n",
        "plt.plot(history.history['val_test v loss'], label = 'validation')\n",
        "plt.xlabel('Epoch')\n",
        "plt.ylabel('MSE')\n",
        "plt.legend(loc='upper right')\n",
        "plt.title('Value Loss (MSE)')\n",
        "plt.show()"
      ]
    },
    {
      "cell_type": "code",
      "source": [
        "plt.plot(history.history['train m loss'],      label = 'move')\n",
        "plt.plot(history.history['train v loss'],      label = 'value')\n",
        "plt.plot(history.history['train hybrid loss'], label = 'hybrid')\n",
        "plt.title('Loss -- MSE, SCCE, Hybrid')\n",
        "plt.xlabel('Epochs')\n",
        "plt.ylabel('Loss')\n",
        "plt.legend()\n",
        "plt.show()\n"
      ],
      "metadata": {
        "colab": {
          "base_uri": "https://localhost:8080/",
          "height": 295
        },
        "id": "ujDHlddYkMx3",
        "outputId": "b4c65511-0691-4e56-cb72-6f38f174233b"
      },
      "execution_count": 24,
      "outputs": [
        {
          "output_type": "display_data",
          "data": {
            "text/plain": [
              "<Figure size 432x288 with 1 Axes>"
            ],
            "image/png": "[encoded data removed]"
          },
          "metadata": {
            "needs_background": "light"
          }
        }
      ]
    },
    {
      "cell_type": "code",
      "execution_count": 31,
      "metadata": {
        "id": "ZIyA9RSAcze3",
        "colab": {
          "base_uri": "https://localhost:8080/",
          "height": 295
        },
        "outputId": "3863d35e-c7a8-4541-9ddc-e6e8f646ce6a"
      },
      "outputs": [
        {
          "output_type": "display_data",
          "data": {
            "text/plain": [
              "<Figure size 432x288 with 1 Axes>"
            ],
            "image/png": "[encoded data removed]"
          },
          "metadata": {
            "needs_background": "light"
          }
        }
      ],
      "source": [
        "plt.plot(history.history['train m accuracy'],     label = 'train')\n",
        "plt.plot(history.history['val_test m accuracy'], label = 'validation')\n",
        "plt.xlabel('Epoch')\n",
        "plt.ylabel('Accuracy')\n",
        "plt.legend(loc='lower right')\n",
        "plt.title('Move Accuracy')\n",
        "plt.show()"
      ]
    },
    {
      "cell_type": "markdown",
      "metadata": {
        "id": "lUXyb_6bcze4"
      },
      "source": [
        "## Evaluation\n",
        "\n",
        "Evaluate on the test set and print the test accuracy."
      ]
    },
    {
      "cell_type": "code",
      "execution_count": 57,
      "metadata": {
        "id": "GCl-3oIKcze4"
      },
      "outputs": [],
      "source": [
        "m_pred, v_pred = model.predict(X_test)"
      ]
    },
    {
      "cell_type": "code",
      "execution_count": 34,
      "metadata": {
        "id": "SSjmaKyGcze4",
        "colab": {
          "base_uri": "https://localhost:8080/"
        },
        "outputId": "855a75c2-9d24-41e5-d727-01b731e08996"
      },
      "outputs": [
        {
          "output_type": "execute_result",
          "data": {
            "text/plain": [
              "0.8188453881884539"
            ]
          },
          "metadata": {},
          "execution_count": 34
        }
      ],
      "source": [
        "accuracy_score(y_move_test.ravel(), np.argmax(m_pred, axis=1))"
      ]
    },
    {
      "cell_type": "code",
      "execution_count": 35,
      "metadata": {
        "id": "QKCEAFMrvU-0",
        "colab": {
          "base_uri": "https://localhost:8080/"
        },
        "outputId": "7630a6fb-5692-4d28-c63e-b6c63f897e94"
      },
      "outputs": [
        {
          "output_type": "execute_result",
          "data": {
            "text/plain": [
              "0.04914453"
            ]
          },
          "metadata": {},
          "execution_count": 35
        }
      ],
      "source": [
        "mean_squared_error(y_value_test, v_pred)"
      ]
    },
    {
      "cell_type": "markdown",
      "metadata": {
        "id": "JW1nteNnvU-0"
      },
      "source": [
        "## Prediction\n",
        "\n",
        "Pick a few game states from test set, and predict their next moves and outcomes. Do you think your model can make reasonable prediction for a given game state? Discuss your findings."
      ]
    },
    {
      "cell_type": "code",
      "execution_count": 36,
      "metadata": {
        "id": "gSSVJhbOvU-0"
      },
      "outputs": [],
      "source": [
        "def print_gn(x):\n",
        "    cur_state = []\n",
        "    for _ in range(3):\n",
        "        cur_state.append(3*['-'])\n",
        "    O_pos_tuple = np.nonzero(x[0])\n",
        "    for i, j in zip(O_pos_tuple[0], O_pos_tuple[1]):\n",
        "        cur_state[i][j] = 'O'\n",
        "\n",
        "    X_pos_tuple = np.nonzero(x[1])\n",
        "    for i, j in zip(X_pos_tuple[0], X_pos_tuple[1]):\n",
        "        cur_state[i][j] = 'X'\n",
        "    cur_gn = MNKNode(cur_state)\n",
        "    \n",
        "    print(\"%s\" % cur_gn)\n",
        "    print(\"Next player: %s\" % cur_gn.next_player())"
      ]
    },
    {
      "cell_type": "code",
      "execution_count": 37,
      "metadata": {
        "id": "Yg6FYvvOvU-0"
      },
      "outputs": [],
      "source": [
        "def print_gn_pred(x):\n",
        "    x_new = np.expand_dims(x, axis=0)\n",
        "    m_pred, v_pred = model.predict(x_new)\n",
        "    m_pred_reshape = np.reshape(m_pred, (3, 3))\n",
        "    \n",
        "    print(\"Move probabilities:\")\n",
        "    for i in m_pred_reshape:\n",
        "        print(\" \".join(['{:.2f}'.format(j) for j in i]))\n",
        "    print()\n",
        "    print(\"Value: %.4f\" % v_pred[0][0])\n",
        "\n",
        "def print_gn_y(y_m,y_v):\n",
        "    print(\"Move: %d\" % y_m[0])\n",
        "    print()\n",
        "    print(\"Value: {}\".format(y_v[0]))"
      ]
    },
    {
      "cell_type": "markdown",
      "source": [
        "# RESULTS/DISCUSSION"
      ],
      "metadata": {
        "id": "EhdfhPP_rDYE"
      }
    },
    {
      "cell_type": "code",
      "source": [
        "import random\n",
        "\n",
        "def random_results(X_test=X_test,number=10,seed=1234):\n",
        "  random.seed(seed)\n",
        "  j=0\n",
        "  for i in random.sample(range(0, len(X_test)), number):\n",
        "    hash_row = '#'*(len(str(j+1))+9)\n",
        "    print('{}\\n# TEST {} #\\n{}'.format(hash_row,j+1,hash_row))\n",
        "    print_gn(X_test[i])\n",
        "    print_gn_pred(X_test[i])\n",
        "    j+=1\n",
        "    print('\\n') \n",
        "\n",
        "random_results()"
      ],
      "metadata": {
        "colab": {
          "base_uri": "https://localhost:8080/"
        },
        "id": "NwvDovCRD7-K",
        "outputId": "3bf0ad22-175e-4dd9-d9b5-9fa6557e68ce"
      },
      "execution_count": 38,
      "outputs": [
        {
          "output_type": "stream",
          "name": "stdout",
          "text": [
            "##########\n",
            "# TEST 1 #\n",
            "##########\n",
            "- X O\n",
            "- O X\n",
            "X O -\n",
            "\n",
            "Next player: X\n",
            "Move probabilities:\n",
            "1.00 0.00 0.00\n",
            "0.00 0.00 0.00\n",
            "0.00 0.00 0.00\n",
            "\n",
            "Value: 0.6399\n",
            "\n",
            "\n",
            "##########\n",
            "# TEST 2 #\n",
            "##########\n",
            "- X X\n",
            "- X -\n",
            "- O O\n",
            "\n",
            "Next player: O\n",
            "Move probabilities:\n",
            "0.74 0.00 0.00\n",
            "0.00 0.00 0.00\n",
            "0.26 0.00 0.00\n",
            "\n",
            "Value: 0.0327\n",
            "\n",
            "\n",
            "##########\n",
            "# TEST 3 #\n",
            "##########\n",
            "- - -\n",
            "X - -\n",
            "X O O\n",
            "\n",
            "Next player: X\n",
            "Move probabilities:\n",
            "1.00 0.00 0.00\n",
            "0.00 0.00 0.00\n",
            "0.00 0.00 0.00\n",
            "\n",
            "Value: 1.0000\n",
            "\n",
            "\n",
            "##########\n",
            "# TEST 4 #\n",
            "##########\n",
            "X O -\n",
            "- O O\n",
            "- X X\n",
            "\n",
            "Next player: X\n",
            "Move probabilities:\n",
            "0.00 0.00 0.00\n",
            "0.02 0.00 0.00\n",
            "0.97 0.00 0.00\n",
            "\n",
            "Value: 0.9964\n",
            "\n",
            "\n",
            "##########\n",
            "# TEST 5 #\n",
            "##########\n",
            "- O -\n",
            "X X O\n",
            "- X -\n",
            "\n",
            "Next player: O\n",
            "Move probabilities:\n",
            "0.51 0.00 0.49\n",
            "0.00 0.00 0.00\n",
            "0.00 0.00 0.00\n",
            "\n",
            "Value: 0.4336\n",
            "\n",
            "\n",
            "##########\n",
            "# TEST 6 #\n",
            "##########\n",
            "- X O\n",
            "- - X\n",
            "O O X\n",
            "\n",
            "Next player: X\n",
            "Move probabilities:\n",
            "0.95 0.00 0.00\n",
            "0.00 0.05 0.00\n",
            "0.00 0.00 0.00\n",
            "\n",
            "Value: 0.6505\n",
            "\n",
            "\n",
            "##########\n",
            "# TEST 7 #\n",
            "##########\n",
            "- X X\n",
            "O - O\n",
            "X O -\n",
            "\n",
            "Next player: X\n",
            "Move probabilities:\n",
            "1.00 0.00 0.00\n",
            "0.00 0.00 0.00\n",
            "0.00 0.00 0.00\n",
            "\n",
            "Value: 1.0000\n",
            "\n",
            "\n",
            "##########\n",
            "# TEST 8 #\n",
            "##########\n",
            "X - -\n",
            "- O X\n",
            "- O X\n",
            "\n",
            "Next player: O\n",
            "Move probabilities:\n",
            "0.00 1.00 0.00\n",
            "0.00 0.00 0.00\n",
            "0.00 0.00 0.00\n",
            "\n",
            "Value: 0.0210\n",
            "\n",
            "\n",
            "##########\n",
            "# TEST 9 #\n",
            "##########\n",
            "X X -\n",
            "- - O\n",
            "O O X\n",
            "\n",
            "Next player: X\n",
            "Move probabilities:\n",
            "0.00 0.00 1.00\n",
            "0.00 0.00 0.00\n",
            "0.00 0.00 0.00\n",
            "\n",
            "Value: 1.0000\n",
            "\n",
            "\n",
            "###########\n",
            "# TEST 10 #\n",
            "###########\n",
            "- - -\n",
            "O O X\n",
            "- - X\n",
            "\n",
            "Next player: X\n",
            "Move probabilities:\n",
            "0.00 0.00 1.00\n",
            "0.00 0.00 0.00\n",
            "0.00 0.00 0.00\n",
            "\n",
            "Value: 0.9999\n",
            "\n",
            "\n"
          ]
        }
      ]
    },
    {
      "cell_type": "markdown",
      "source": [
        "I intuitively reject 2/10 of the solutions above.\n",
        "\n",
        "\n",
        "> Test 2 predicts a sub-optimal move -- O blocks a possible winning move for X, but fails to play a move that would result in an immediate win. The predicted value of this move is 0.0327, which makes sense, since it missed an opportunity to win the game.\n",
        "\n",
        "> Test 8 results in a winning move, but the predicted value is only 0.0210, which doesn't make sense.\n",
        "\n",
        "The other eight predictions seem to result in rational moves and predicted values that are within the appropriate range."
      ],
      "metadata": {
        "id": "-0riT6dhFV4R"
      }
    },
    {
      "cell_type": "markdown",
      "source": [
        "Given that there are two outputs -- move and value -- there are two ways each prediction could be accurate or inaccurate. I decided to plot the distributions of moves and values, including both the actual and predicted results."
      ],
      "metadata": {
        "id": "RnpZD3vcP4Fd"
      }
    },
    {
      "cell_type": "code",
      "source": [
        "import scipy\n",
        "import matplotlib.mlab as mlab\n",
        "from scipy.stats import norm\n",
        "\n",
        "m_pred_max = [p.tolist().index(max(p)) for p in m_pred]\n",
        "\n",
        "plt.hist(m_pred_max,       color='#FF4888', width=0.4, align='right',   label='Predicted')\n",
        "plt.hist(y_move_test[:,0], color='#186CF9', width=0.4, align='mid', label='True')\n",
        "plt.xlabel('Position')\n",
        "plt.ylabel('Count')\n",
        "plt.title('Distribution of Moves')\n",
        "plt.legend()\n",
        "plt.show()\n",
        "\n",
        "\n",
        "plt.hist((v_pred[:,0],\n",
        "          y_value_test[:,0]),\n",
        "         width=0.1,\n",
        "         align='mid',\n",
        "         color=('#FFABC8','#84B2FF'),\n",
        "         alpha=0.3,\n",
        "         bins=[0,0.4, 0.8, 1.2])\n",
        "\n",
        "plt.xlabel('Value')\n",
        "plt.ylabel('Count')\n",
        "plt.title('Distribution of Values (a)')\n",
        "plt.legend()\n",
        "#plt.show()\n",
        "\n",
        "plt.hist((v_pred[:,0],\n",
        "          y_value_test[:,0]),\n",
        "         width=0.05,\n",
        "         align='mid',\n",
        "         color=('#FF4888','#186CF9'),\n",
        "         label=('Predicted','True'))\n",
        "         #bins=[0,0.2, 0.4,0.6, 0.8,1,1.2])\n",
        "\n",
        "plt.xlabel('Value')\n",
        "plt.ylabel('Count')\n",
        "plt.title('Distribution of Values (b)')\n",
        "plt.legend()\n",
        "plt.show()"
      ],
      "metadata": {
        "colab": {
          "base_uri": "https://localhost:8080/",
          "height": 591
        },
        "id": "iB5tavvo3GXI",
        "outputId": "c2f22dde-c94c-4ba0-cc45-468bf4e7a2de"
      },
      "execution_count": 183,
      "outputs": [
        {
          "output_type": "display_data",
          "data": {
            "text/plain": [
              "<Figure size 432x288 with 1 Axes>"
            ],
            "image/png": "[encoded data removed]"
          },
          "metadata": {
            "needs_background": "light"
          }
        },
        {
          "output_type": "stream",
          "name": "stderr",
          "text": [
            "No handles with labels found to put in legend.\n"
          ]
        },
        {
          "output_type": "display_data",
          "data": {
            "text/plain": [
              "<Figure size 432x288 with 1 Axes>"
            ],
            "image/png": "[encoded data removed]"
          },
          "metadata": {
            "needs_background": "light"
          }
        }
      ]
    },
    {
      "cell_type": "markdown",
      "source": [
        "The actual and predicted results have closely matching distributions of moves. The distributions of values are not as close, as the predicted results skew toward the 0 and 1, which a large portion of the actual values are 0.5. This may be a better representation of the utility of possible moves, since it allows for intermediate values, but this is not reflected in the 'true' data."
      ],
      "metadata": {
        "id": "rtO9tJsGP64G"
      }
    },
    {
      "cell_type": "markdown",
      "source": [
        "One last note worth making is that the validation loss increases much earlier than 100 epochs. It is possible that model is overfit. We can see how the results would change by limiting the model to training on 20 epochs."
      ],
      "metadata": {
        "id": "x6YK1doA-19M"
      }
    },
    {
      "cell_type": "code",
      "source": [
        "model = ConvResNN()\n",
        "optimizer = Adam(1e-3)\n",
        "model.compile(optimizer)\n",
        "\n",
        "start_time = time()\n",
        "history2 = model.fit(X_train, [y_move_train, y_value_train],\n",
        "                    epochs=20,\n",
        "                    validation_split=0.2,\n",
        "                    verbose=0)\n",
        "running_time = time() - start_time"
      ],
      "metadata": {
        "id": "OpTwOYBgyaZ0"
      },
      "execution_count": 185,
      "outputs": []
    },
    {
      "cell_type": "code",
      "source": [
        "plt.plot(history2.history['train hybrid loss'], label = 'train')\n",
        "plt.plot(history2.history['val_test hybrid loss'], label = 'validation')\n",
        "plt.xlabel('Epoch')\n",
        "plt.ylabel('Loss')\n",
        "plt.legend(loc='lower right')\n",
        "plt.title('Hybrid Loss')\n",
        "plt.show()"
      ],
      "metadata": {
        "colab": {
          "base_uri": "https://localhost:8080/",
          "height": 295
        },
        "id": "g9g91i7g4ABt",
        "outputId": "7ac4cc26-3608-4172-812d-91a0621a8b6a"
      },
      "execution_count": 187,
      "outputs": [
        {
          "output_type": "display_data",
          "data": {
            "text/plain": [
              "<Figure size 432x288 with 1 Axes>"
            ],
            "image/png": "[encoded data removed]"
          },
          "metadata": {
            "needs_background": "light"
          }
        }
      ]
    },
    {
      "cell_type": "code",
      "source": [
        "m_pred, v_pred = model.predict(X_test)\n",
        "print(accuracy_score(y_move_test.ravel(), np.argmax(m_pred, axis=1)))\n",
        "print(mean_squared_error(y_value_test, v_pred))"
      ],
      "metadata": {
        "colab": {
          "base_uri": "https://localhost:8080/"
        },
        "id": "sYbJUxB-_jMt",
        "outputId": "80eb71da-83e9-48c8-a887-f863ada52b01"
      },
      "execution_count": 189,
      "outputs": [
        {
          "output_type": "stream",
          "name": "stdout",
          "text": [
            "0.7803583278035833\n",
            "0.08021309\n"
          ]
        }
      ]
    },
    {
      "cell_type": "markdown",
      "source": [
        "These values are comparable to the ones when the training was on 100 epochs."
      ],
      "metadata": {
        "id": "WOII9U3N_-3b"
      }
    },
    {
      "cell_type": "code",
      "source": [
        "m_pred_max = [p.tolist().index(max(p)) for p in m_pred]\n",
        "\n",
        "plt.hist(m_pred_max,       color='#FF4888', width=0.4, align='right',   label='Predicted')\n",
        "plt.hist(y_move_test[:,0], color='#186CF9', width=0.4, align='mid', label='True')\n",
        "plt.xlabel('Position')\n",
        "plt.ylabel('Count')\n",
        "plt.title('Distribution of Moves')\n",
        "plt.legend()\n",
        "plt.show()\n",
        "\n",
        "\n",
        "plt.hist((v_pred[:,0],\n",
        "          y_value_test[:,0]),\n",
        "         width=0.1,\n",
        "         align='mid',\n",
        "         color=('#FFABC8','#84B2FF'),\n",
        "         alpha=0.3,\n",
        "         bins=[0,0.4, 0.8, 1.2])\n",
        "\n",
        "plt.xlabel('Value')\n",
        "plt.ylabel('Count')\n",
        "plt.title('Distribution of Values (a)')\n",
        "plt.legend()\n",
        "#plt.show()\n",
        "\n",
        "plt.hist((v_pred[:,0],\n",
        "          y_value_test[:,0]),\n",
        "         width=0.05,\n",
        "         align='mid',\n",
        "         color=('#FF4888','#186CF9'),\n",
        "         label=('Predicted','True'))\n",
        "         #bins=[0,0.2, 0.4,0.6, 0.8,1,1.2])\n",
        "         \n",
        "\n",
        "\n",
        "plt.xlabel('Value')\n",
        "plt.ylabel('Count')\n",
        "plt.title('Distribution of Values (b)')\n",
        "plt.legend()\n",
        "plt.show()"
      ],
      "metadata": {
        "colab": {
          "base_uri": "https://localhost:8080/",
          "height": 591
        },
        "id": "R24Z_WEt_QI6",
        "outputId": "71930686-7bed-4db7-97c0-aeb836c7b071"
      },
      "execution_count": 190,
      "outputs": [
        {
          "output_type": "display_data",
          "data": {
            "text/plain": [
              "<Figure size 432x288 with 1 Axes>"
            ],
            "image/png": "[encoded data removed]"
          },
          "metadata": {
            "needs_background": "light"
          }
        },
        {
          "output_type": "stream",
          "name": "stderr",
          "text": [
            "No handles with labels found to put in legend.\n"
          ]
        },
        {
          "output_type": "display_data",
          "data": {
            "text/plain": [
              "<Figure size 432x288 with 1 Axes>"
            ],
            "image/png": "[encoded data removed]"
          },
          "metadata": {
            "needs_background": "light"
          }
        }
      ]
    },
    {
      "cell_type": "markdown",
      "source": [
        "The distribution of moves still closely matches the 'true' data, and the distribution of values exhibits a closer match between predicted and actual data.\n",
        "\n",
        "There are additional ways that we can compare this model against the original, but it is worth exploring, since over-fitting can lead to sub-optimal solutions when looking at unseen data."
      ],
      "metadata": {
        "id": "oQeq6i4Y_xJ9"
      }
    }
  ],
  "metadata": {
    "accelerator": "GPU",
    "colab": {
      "collapsed_sections": [],
      "name": "deep-learning-assignment-b(1).ipynb",
      "provenance": []
    },
    "interpreter": {
      "hash": "9a328e9dafe32c48b4eaefbad3747c00d426236eea28e72508c75cbdd661723c"
    },
    "kernelspec": {
      "display_name": "Python 3",
      "language": "python",
      "name": "python3"
    },
    "language_info": {
      "codemirror_mode": {
        "name": "ipython",
        "version": 3
      },
      "file_extension": ".py",
      "mimetype": "text/x-python",
      "name": "python",
      "nbconvert_exporter": "python",
      "pygments_lexer": "ipython3",
      "version": "3.7.10"
    }
  },
  "nbformat": 4,
  "nbformat_minor": 0
}