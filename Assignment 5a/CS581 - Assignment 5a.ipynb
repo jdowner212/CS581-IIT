{
 "cells": [
  {
   "cell_type": "markdown",
   "metadata": {
    "id": "OgYCMwZEczep"
   },
   "source": [
    "# Assignment 5a - Deep Learning"
   ]
  },
  {
   "cell_type": "markdown",
   "metadata": {
    "id": "dp5MybR8czeu"
   },
   "source": [
    "In this assignment, you will\n",
    "\n",
    "1. Load cifar10 image dataset from TensorFlow and process it.\n",
    "1. Build an image classifier based on the given model structure.\n",
    "1. Train the model and plot the learning curves with respect to the number of epochs. \n",
    "1. Evaluate the model on the test set. Report performance metrics.\n",
    "1. Discuss your findings.\n",
    "1. (Optional - not graded) Try different model structure or parameters, report your results and discuss your findings."
   ]
  },
  {
   "cell_type": "markdown",
   "metadata": {
    "id": "wUjjpG4Tczev"
   },
   "source": [
    "## Your Information"
   ]
  },
  {
   "cell_type": "markdown",
   "metadata": {
    "id": "V7G1HOWcczev"
   },
   "source": [
    "**Name:** Jane Downer<br>\n",
    "**CWID:** A20452471<br>\n",
    "**Section:** 02<br>"
   ]
  },
  {
   "cell_type": "code",
   "execution_count": 1,
   "metadata": {
    "id": "lMbcJUiNw2mx"
   },
   "outputs": [],
   "source": [
    "import tensorflow as tf\n",
    "from   tensorflow.keras import datasets, layers, models\n",
    "from   tensorflow.keras.models import Sequential\n",
    "from   tensorflow.keras.layers import Conv2D, Dense, Flatten, MaxPool2D, AveragePooling2D\n",
    "from   tensorflow.keras.optimizers import Adam\n",
    "from   time import time\n",
    "import numpy as np\n",
    "import matplotlib.pyplot as plt\n",
    "from   sklearn.metrics import classification_report"
   ]
  },
  {
   "cell_type": "markdown",
   "metadata": {
    "id": "Pov8tJYPczez"
   },
   "source": [
    "## Dataset\n",
    "\n",
    "Download the dataset from TensorFlow using tf.keras.datasets.cifar10.load_data() function.\n",
    "https://www.tensorflow.org/api_docs/python/tf/keras/datasets/cifar10/load_data\n",
    "\n",
    "Normalize pixel values (between 0 and 255) to be between 0 and 1.\n",
    "\n",
    "Note: this part of the code has already been provided."
   ]
  },
  {
   "cell_type": "code",
   "execution_count": 2,
   "metadata": {
    "colab": {
     "base_uri": "https://localhost:8080/"
    },
    "id": "WvJrcSmgw2mz",
    "outputId": "133016c5-ea5b-47bd-f8a0-0b61e89572ec"
   },
   "outputs": [],
   "source": [
    "(train_images, y_train), (test_images, y_test) = datasets.cifar10.load_data()\n",
    "X_train, X_test = train_images/255.0, test_images/255.0"
   ]
  },
  {
   "cell_type": "markdown",
   "metadata": {
    "id": "vLP7Eej1cze0"
   },
   "source": [
    "## Model Structure\n",
    "\n",
    "Use Sequential API (https://www.tensorflow.org/guide/keras/sequential_model) to build a model with the following structure:\n",
    "\n",
    "1. Conv2D Layer (128 filters, 3\\*3 kernel, 1\\*1 strides, 'same' padding, 'relu' activation)\n",
    "\n",
    "1. MaxPool2D Layer (2\\*2 pool size)\n",
    "\n",
    "1. Conv2D Layer (64 filters, 3\\*3 kernel, 1\\*1 strides, 'same' padding, 'relu' activation)\n",
    "\n",
    "1. MaxPool2D Layer (2\\*2 pool size)\n",
    "\n",
    "1. Conv2D Layer (32 filters, 3\\*3 kernel, 1\\*1 strides, 'same' padding, 'relu' activation)\n",
    "\n",
    "1. AveragePooling2D Layer (3\\*3 pool size)\n",
    "\n",
    "1. Flatten Layer\n",
    "\n",
    "1. Dense Layer (32 units, 'relu' activation)\n",
    "\n",
    "1. Dense Layer (10 units, 'softmax' activation)"
   ]
  },
  {
   "cell_type": "code",
   "execution_count": 3,
   "metadata": {
    "id": "xuaKt8gKw2m0"
   },
   "outputs": [
    {
     "name": "stdout",
     "output_type": "stream",
     "text": [
      "Metal device set to: Apple M1 Pro\n"
     ]
    },
    {
     "name": "stderr",
     "output_type": "stream",
     "text": [
      "2022-04-03 21:58:39.393952: I tensorflow/core/common_runtime/pluggable_device/pluggable_device_factory.cc:305] Could not identify NUMA node of platform GPU ID 0, defaulting to 0. Your kernel may not have been built with NUMA support.\n",
      "2022-04-03 21:58:39.394210: I tensorflow/core/common_runtime/pluggable_device/pluggable_device_factory.cc:271] Created TensorFlow device (/job:localhost/replica:0/task:0/device:GPU:0 with 0 MB memory) -> physical PluggableDevice (device: 0, name: METAL, pci bus id: <undefined>)\n"
     ]
    }
   ],
   "source": [
    "# TODO\n",
    "\n",
    "model = models.Sequential()\n",
    "model.add(layers.Conv2D(filters=128,\n",
    "                        kernel_size=(3,3),\n",
    "                        strides=(1,1),\n",
    "                        padding='same',\n",
    "                        activation='relu'))\n",
    "model.add(layers.MaxPool2D(pool_size=(2,2)))\n",
    "model.add(layers.Conv2D(filters=64,\n",
    "                        kernel_size=(3,3),\n",
    "                        strides=(1,1),\n",
    "                        padding='same',\n",
    "                        activation='relu'))\n",
    "model.add(layers.MaxPool2D(pool_size=(2,2)))\n",
    "model.add(layers.Conv2D(filters=32, \n",
    "                        kernel_size=(3,3),\n",
    "                        strides=(1,1),\n",
    "                        padding='same',\n",
    "                        activation='relu'))\n",
    "model.add(layers.AveragePooling2D(pool_size=(2,2)))\n",
    "model.add(Flatten())\n",
    "model.add(tf.keras.layers.Dense(\n",
    "                        units=32,\n",
    "                        activation='relu'))\n",
    "model.add(tf.keras.layers.Dense(\n",
    "                        units=10,\n",
    "                        activation='softmax'))"
   ]
  },
  {
   "cell_type": "markdown",
   "metadata": {
    "id": "yrTarJdZw2m0"
   },
   "source": [
    "## Model Training\n",
    "\n",
    "Set Adam with learning rate 1e-3 as the optimizer, sparse categorical crossentropy as the loss function and accuracy as the metrics to compile the model.\n",
    "\n",
    "Set the number of epochs to 20, validation_split to 0.2, and then fit the model."
   ]
  },
  {
   "cell_type": "code",
   "execution_count": 4,
   "metadata": {
    "colab": {
     "base_uri": "https://localhost:8080/"
    },
    "id": "kpPu_j7Aw2m1",
    "outputId": "b5944392-cbb7-4aba-f6b9-38b0fd7e8c9f"
   },
   "outputs": [
    {
     "name": "stdout",
     "output_type": "stream",
     "text": [
      "Epoch 1/20\n"
     ]
    },
    {
     "name": "stderr",
     "output_type": "stream",
     "text": [
      "2022-04-03 21:58:40.274195: W tensorflow/core/platform/profile_utils/cpu_utils.cc:128] Failed to get CPU frequency: 0 Hz\n",
      "2022-04-03 21:58:40.881415: I tensorflow/core/grappler/optimizers/custom_graph_optimizer_registry.cc:113] Plugin optimizer for device_type GPU is enabled.\n"
     ]
    },
    {
     "name": "stdout",
     "output_type": "stream",
     "text": [
      "1250/1250 [==============================] - ETA: 0s - loss: 1.6060 - accuracy: 0.4115"
     ]
    },
    {
     "name": "stderr",
     "output_type": "stream",
     "text": [
      "2022-04-03 21:58:56.623357: I tensorflow/core/grappler/optimizers/custom_graph_optimizer_registry.cc:113] Plugin optimizer for device_type GPU is enabled.\n"
     ]
    },
    {
     "name": "stdout",
     "output_type": "stream",
     "text": [
      "1250/1250 [==============================] - 19s 12ms/step - loss: 1.6060 - accuracy: 0.4115 - val_loss: 1.4264 - val_accuracy: 0.4868\n",
      "Epoch 2/20\n",
      "1250/1250 [==============================] - 15s 12ms/step - loss: 1.2179 - accuracy: 0.5666 - val_loss: 1.1548 - val_accuracy: 0.5946\n",
      "Epoch 3/20\n",
      "1250/1250 [==============================] - 15s 12ms/step - loss: 1.0571 - accuracy: 0.6277 - val_loss: 0.9856 - val_accuracy: 0.6571\n",
      "Epoch 4/20\n",
      "1250/1250 [==============================] - 15s 12ms/step - loss: 0.9524 - accuracy: 0.6647 - val_loss: 0.9579 - val_accuracy: 0.6681\n",
      "Epoch 5/20\n",
      "1250/1250 [==============================] - 15s 12ms/step - loss: 0.8886 - accuracy: 0.6877 - val_loss: 0.9226 - val_accuracy: 0.6828\n",
      "Epoch 6/20\n",
      "1250/1250 [==============================] - 15s 12ms/step - loss: 0.8309 - accuracy: 0.7074 - val_loss: 0.8921 - val_accuracy: 0.6909\n",
      "Epoch 7/20\n",
      "1250/1250 [==============================] - 15s 12ms/step - loss: 0.7820 - accuracy: 0.7252 - val_loss: 0.8477 - val_accuracy: 0.7093\n",
      "Epoch 8/20\n",
      "1250/1250 [==============================] - 15s 12ms/step - loss: 0.7506 - accuracy: 0.7372 - val_loss: 0.8463 - val_accuracy: 0.7073\n",
      "Epoch 9/20\n",
      "1250/1250 [==============================] - 15s 12ms/step - loss: 0.7144 - accuracy: 0.7507 - val_loss: 0.8184 - val_accuracy: 0.7191\n",
      "Epoch 10/20\n",
      "1250/1250 [==============================] - 15s 12ms/step - loss: 0.6843 - accuracy: 0.7615 - val_loss: 0.8798 - val_accuracy: 0.7042\n",
      "Epoch 11/20\n",
      "1250/1250 [==============================] - 15s 12ms/step - loss: 0.6565 - accuracy: 0.7690 - val_loss: 0.8134 - val_accuracy: 0.7198\n",
      "Epoch 12/20\n",
      "1250/1250 [==============================] - 15s 12ms/step - loss: 0.6304 - accuracy: 0.7786 - val_loss: 0.7828 - val_accuracy: 0.7327\n",
      "Epoch 13/20\n",
      "1250/1250 [==============================] - 15s 12ms/step - loss: 0.6087 - accuracy: 0.7854 - val_loss: 0.8177 - val_accuracy: 0.7225\n",
      "Epoch 14/20\n",
      "1250/1250 [==============================] - 15s 12ms/step - loss: 0.5846 - accuracy: 0.7936 - val_loss: 0.8096 - val_accuracy: 0.7404\n",
      "Epoch 15/20\n",
      "1250/1250 [==============================] - 14s 12ms/step - loss: 0.5659 - accuracy: 0.8012 - val_loss: 0.8015 - val_accuracy: 0.7381\n",
      "Epoch 16/20\n",
      "1250/1250 [==============================] - 14s 12ms/step - loss: 0.5456 - accuracy: 0.8066 - val_loss: 0.8601 - val_accuracy: 0.7216\n",
      "Epoch 17/20\n",
      "1250/1250 [==============================] - 14s 11ms/step - loss: 0.5252 - accuracy: 0.8147 - val_loss: 0.8051 - val_accuracy: 0.7401\n",
      "Epoch 18/20\n",
      "1250/1250 [==============================] - 14s 11ms/step - loss: 0.5070 - accuracy: 0.8203 - val_loss: 0.7869 - val_accuracy: 0.7437\n",
      "Epoch 19/20\n",
      "1250/1250 [==============================] - 14s 12ms/step - loss: 0.4965 - accuracy: 0.8231 - val_loss: 0.8322 - val_accuracy: 0.7373\n",
      "Epoch 20/20\n",
      "1250/1250 [==============================] - 15s 12ms/step - loss: 0.4725 - accuracy: 0.8338 - val_loss: 0.8982 - val_accuracy: 0.7253\n"
     ]
    }
   ],
   "source": [
    "# TODO\n",
    "model.compile(optimizer = 'adam',\n",
    "              loss      = 'sparse_categorical_crossentropy',\n",
    "              metrics   = 'accuracy')\n",
    "\n",
    "history = model.fit(X_train,\n",
    "                    y_train,\n",
    "                    epochs=20,\n",
    "                    validation_split=0.2)"
   ]
  },
  {
   "cell_type": "markdown",
   "metadata": {
    "id": "8St58sWacze2"
   },
   "source": [
    "## Visualization\n",
    "\n",
    "Get the loss and accuracy on training set and validation set by accessing ``model.history.history``\n",
    "\n",
    "Plot the two loss curves where the x axis is the number of epochs and y axis is the loss.\n",
    "\n",
    "Plot the two accuracy curves where the x-axis is the number of epochs and y-axis is the accuracy."
   ]
  },
  {
   "cell_type": "code",
   "execution_count": 5,
   "metadata": {
    "id": "S3F6To2M_PIo"
   },
   "outputs": [
    {
     "data": {
      "text/plain": [
       "['loss', 'accuracy', 'val_loss', 'val_accuracy']"
      ]
     },
     "execution_count": 5,
     "metadata": {},
     "output_type": "execute_result"
    }
   ],
   "source": [
    "list(history.history.keys())"
   ]
  },
  {
   "cell_type": "code",
   "execution_count": 6,
   "metadata": {
    "id": "pEg0WxFfw2m1"
   },
   "outputs": [
    {
     "data": {
      "image/png": "[encoded data removed]",
      "text/plain": [
       "<Figure size 432x288 with 1 Axes>"
      ]
     },
     "metadata": {
      "needs_background": "light"
     },
     "output_type": "display_data"
    }
   ],
   "source": [
    "# Accuracy - given\n",
    "plt.plot(history.history['accuracy'], label='train_accuracy')\n",
    "plt.plot(history.history['val_accuracy'], label = 'val_accuracy')\n",
    "plt.xlabel('Epoch')\n",
    "plt.ylabel('Accuracy')\n",
    "plt.legend(loc='lower right')\n",
    "plt.show()"
   ]
  },
  {
   "cell_type": "code",
   "execution_count": 7,
   "metadata": {
    "id": "bYKWps9Qw2m1"
   },
   "outputs": [
    {
     "data": {
      "image/png": "[encoded data removed]",
      "text/plain": [
       "<Figure size 432x288 with 1 Axes>"
      ]
     },
     "metadata": {
      "needs_background": "light"
     },
     "output_type": "display_data"
    }
   ],
   "source": [
    "# Loss\n",
    "# TODO\n",
    "plt.plot(history.history['loss'], label='loss')\n",
    "plt.plot(history.history['val_loss'],label='val_loss')\n",
    "plt.xlabel('Epoch')\n",
    "plt.ylabel('Loss')\n",
    "plt.legend(loc='lower right')\n",
    "plt.show()"
   ]
  },
  {
   "cell_type": "markdown",
   "metadata": {
    "id": "lUXyb_6bcze4"
   },
   "source": [
    "## Evaluation\n",
    "\n",
    "Evaluate on the test set, print the classification report using sklearn.metrics.classification_report. Make sure you provide the label names for each class.\n",
    "\n",
    "https://scikit-learn.org/stable/modules/generated/sklearn.metrics.classification_report.html"
   ]
  },
  {
   "cell_type": "code",
   "execution_count": 22,
   "metadata": {
    "id": "C5sObuIGw2m2"
   },
   "outputs": [
    {
     "name": "stdout",
     "output_type": "stream",
     "text": [
      "              precision    recall  f1-score   support\n",
      "\n",
      "           0       0.78      0.74      0.76      1000\n",
      "           1       0.84      0.82      0.83      1000\n",
      "           2       0.70      0.56      0.62      1000\n",
      "           3       0.52      0.57      0.55      1000\n",
      "           4       0.67      0.63      0.65      1000\n",
      "           5       0.63      0.62      0.63      1000\n",
      "           6       0.92      0.64      0.75      1000\n",
      "           7       0.62      0.87      0.72      1000\n",
      "           8       0.86      0.82      0.84      1000\n",
      "           9       0.74      0.88      0.80      1000\n",
      "\n",
      "    accuracy                           0.71     10000\n",
      "   macro avg       0.73      0.71      0.71     10000\n",
      "weighted avg       0.73      0.71      0.71     10000\n",
      "\n"
     ]
    }
   ],
   "source": [
    "# TODO\n",
    "pred = model.predict(x=X_test)\n",
    "\n",
    "\n",
    "def predict(output):\n",
    "    preds = []\n",
    "    for o in output:\n",
    "        preds.append(o.tolist().index(max(o)))\n",
    "    return preds\n",
    "\n",
    "\n",
    "predictions = predict(pred)\n",
    "\n",
    "y_true =  y_test\n",
    "y_pred = np.asarray(predictions)\n",
    "print(classification_report(y_true, y_pred))"
   ]
  },
  {
   "cell_type": "code",
   "execution_count": 23,
   "metadata": {
    "id": "DMjXZHfCAzqV"
   },
   "outputs": [
    {
     "name": "stdout",
     "output_type": "stream",
     "text": [
      "313/313 [==============================] - 2s 7ms/step - loss: 0.9126 - accuracy: 0.7144\n",
      "Loss: 0.9125737547874451\n",
      "Accuracy: 0.714400053024292\n"
     ]
    }
   ],
   "source": [
    "results = model.evaluate(x=X_test,y=y_test)\n",
    "print('Loss: {}\\nAccuracy: {}'.format(results[0],results[1]))"
   ]
  },
  {
   "cell_type": "markdown",
   "metadata": {
    "id": "YH0EfYMsw2m2"
   },
   "source": [
    "## Final Discussion\n",
    "\n",
    "### Discuss your findings. \n",
    "\n",
    "**1. General discussion**<br>\n",
    "**2. Which class has the highest F1-score? Discuss the possible reasons.**<br>\n",
    "**3. Which class has the lowest F1-score? Discuss the possible reasons.**<br>\n",
    "**4. Any thoughts on why this structure might or might not be a good structure?**"
   ]
  },
  {
   "cell_type": "markdown",
   "metadata": {},
   "source": [
    "1. Validation loss decreases and then levels out, and training loss is still decreasing after 20 epochs. We have not overfit the model, and *will* not overfit until we notice validation loss increasing. Accuracy reaches about 71%, which is ok, but could be better.\n",
    " \n",
    "F1-scores:\n",
    "\n",
    "The classes are airplane, automobile, bird, cat, deer, dog, frog, horse, ship, and truck. I would imagine that it is easier for the model to distinguish between the various types of vehicles than it is to distinguish between the various types of animals (there are 4 four-legged animals in the 5 animal classes), and I would also imagine that it would be relatively easy to distingiuish between animals and vehicles in general. Therefore, I predict that vehicles will generally have higher F1 scores than animals.\n",
    "\n",
    "\n",
    "2.  Class 8 (ship) and Class 2 (automobile) are almost tied for highest F1 score. It is possible that it is easier to detect and correctly identify ships and cars more than it is other vehicles, which makes sense to me, as their shapes are simpler.<br><br>\n",
    "\n",
    "3. The class with the lowest F1-score is class 3 (cat). Again, I would imagine that it is easier to detect and identify vehicles than it is for animals. Sure enough, vehicles have an average F1 score of 0.795, and animals have an average F1 score of 0.653. It's unclear to me what would make cats more difficult to identify than other animals, but it probably doesn't help that four out of six animals are four-legged mammals.\n",
    "\n",
    "\n",
    "`vehical_scores = [0.71,0.83,0.84,0.8]`\n",
    "\n",
    "`animal_scores  = [0.62,0.55,0.65,0.63,0.75,0.72]`\n",
    "\n",
    "4. I would be interested to increase the number of training epochs, since validation loss does not yet begin to increase and training loss has not yet leveled off. I would also be interested to train the model on two categories at a time to see if distinguishing between two categories is particularly difficult for specific classes."
   ]
  },
  {
   "cell_type": "markdown",
   "metadata": {
    "id": "38vlAQhNw2m2"
   },
   "source": [
    "## Optional Step\n",
    "\n",
    "This step will not be graded.\n",
    "\n",
    "Try different model structure or parameters, report your results and discuss your findings."
   ]
  }
 ],
 "metadata": {
  "accelerator": "GPU",
  "colab": {
   "collapsed_sections": [],
   "name": "image-classification.ipynb",
   "provenance": []
  },
  "interpreter": {
   "hash": "9a328e9dafe32c48b4eaefbad3747c00d426236eea28e72508c75cbdd661723c"
  },
  "kernelspec": {
   "display_name": "tf",
   "language": "python",
   "name": "tf"
  },
  "language_info": {
   "codemirror_mode": {
    "name": "ipython",
    "version": 3
   },
   "file_extension": ".py",
   "mimetype": "text/x-python",
   "name": "python",
   "nbconvert_exporter": "python",
   "pygments_lexer": "ipython3",
   "version": "3.8.13"
  }
 },
 "nbformat": 4,
 "nbformat_minor": 1
}
